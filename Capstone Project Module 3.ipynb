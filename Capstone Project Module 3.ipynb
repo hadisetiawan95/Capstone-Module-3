{
 "cells": [
  {
   "cell_type": "markdown",
   "metadata": {},
   "source": [
    "# **Capstone Module 3 (Machine Learning) - Bank Marketing Campaign**\n",
    "# **JCDS 0406 001 - Abdul Hadi Setiawan**"
   ]
  },
  {
   "cell_type": "markdown",
   "metadata": {},
   "source": [
    "## Business Problem Understanding"
   ]
  },
  {
   "cell_type": "markdown",
   "metadata": {},
   "source": [
    "**Context / Domain Knowledge**\n",
    "\n",
    "Jenis produk keuangan yang digunakan masyarakat semakin bervariasi. Salah satu produk keuangan yang banyak dikenal masyarakat adalah deposito berjangka. Mekanisme deposito berjangka adalah nasabah menyetorkan sejumlah uangnya ke bank atau lembaga keuangan, dan uang tersebut baru dapat ditarik setelah jangka waktu tertentu. Sebagai kompensasinya, nasabah akan diberikan bunga tetap sesuai dengan jumlah nominal uang yang disetorkan. Meski demikian, sebagai badan usaha yang memiliki produk keuangan dan nasabah masing-masing, bank tetap harus bersaing agar tidak kehilangan nasabah. Salah satu cara untuk mendapatkan pelanggan baru adalah dengan melakukan kampanye pemasaran."
   ]
  },
  {
   "cell_type": "markdown",
   "metadata": {},
   "source": [
    "**Problem Statement :**\n",
    "\n",
    "Bank berkomitmen untuk terus bersaing agar tidak kehilangan nasabah. Salah satu cara untuk mencapai hal tersebut adalah dengan melakukan Kampanye Pemasaran untuk memperoleh pelanggan baru. Namun pihak bank ingin Kampanye Pemasaran ini berjalan efisien sehingga dapat meminimalkan biaya dan waktu.\n",
    "\n",
    "Berdasarkan data Marketing Campaign sebelumnya, agar Marketing Campaign lebih efisien maka diperlukan suatu sistem yang dapat membantu pihak bank khususnya Tim Marketing dalam memprediksi apakah calon nasabah tertarik untuk melakukan deposit atau tidak setelah menerima tawaran melalui Kampanye Pemasaran. Karena jika bank menawarkan produk simpanan kepada calon nasabah yang tidak berminat, maka akan mengakibatkan terbuangnya biaya dan waktu dalam melakukan Kampanye Pemasaran."
   ]
  },
  {
   "cell_type": "markdown",
   "metadata": {},
   "source": [
    "**Goals :**\n",
    "\n",
    "Untuk mengatasi tantangan tersebut, bank berkeinginan untuk memiliki kemampuan memproyeksikan sejauh mana kemungkinan seorang calon nasabah akan atau tidak akan menempatkan depositonya. Hal ini bertujuan untuk dapat mengarahkan kampanye pemasaran pada calon nasabah yang lebih cenderung untuk menempatkan deposito di bank.\n",
    "\n",
    "Selain itu, perusahaan ingin mengetahui faktor atau variabel apa yang mempengaruhi keputusan seorang calon nasabah untuk menempatkan deposito atau tidak. Tujuannya adalah untuk merancang strategi pendekatan yang lebih efektif terhadap calon nasabah potensial yang berminat untuk menempatkan deposito mereka."
   ]
  },
  {
   "cell_type": "markdown",
   "metadata": {},
   "source": [
    "**Analytic Approach**\n",
    "\n",
    "Saya akan melakukan analisis untuk mengidentifikasi pola dan ciri-ciri yang membedakan calon nasabah yang berminat melakukan deposit dengan yang tidak berminat, berdasarkan fitur-fitur yang tersedia.\n",
    "\n",
    "Kemudian saya akan membangun model klasifikasi yang akurat untuk memprediksi kemungkinan calon nasabah tertarik atau tidak tertarik melakukan deposit."
   ]
  },
  {
   "cell_type": "markdown",
   "metadata": {},
   "source": [
    "**Method Evaluation**\n",
    "\n",
    "TP : Calon Nasabah diprediksi tertarik untuk melakukan deposit dan benar-benar tertarik untuk melakukan deposit.\n",
    "\n",
    "TN : Calon Nasabah diperkirakan tidak tertarik untuk melakukan deposit dan sebenarnya tidak tertarik untuk melakukan deposit.\n",
    "\n",
    "FP: Calon Nasabah diprediksi tertarik untuk melakukan deposit namun sebenarnya tidak tertarik untuk melakukan deposit.\n",
    "\n",
    "FN : Calon Nasabah diprediksi tidak tertarik untuk melakukan deposit namun justru tertarik untuk melakukan deposit.\n",
    "\n",
    "Risiko False Positive (FP): Membuang-buang biaya dan waktu dalam mendapatkan calon nasabah yang sebenarnya tidak berminat melakukan deposit.\n",
    "\n",
    "Risiko False Negative (FN): Kehilangan calon nasabah yang sebenarnya berminat melakukan deposit.\n",
    "\n",
    "Berdasarkan risiko tersebut, saya akan membangun model yang dapat meminimalkan risiko biaya tinggi dalam memperoleh calon nasabah yang berminat melakukan deposit, tanpa kehilangan terlalu banyak calon nasabah yang sebenarnya berminat melakukan deposit. Oleh karena itu, model ini bertujuan untuk memaksimalkan True Positives dan meminimalkan False Positives. Oleh karena itu, metode evaluasi yang akan digunakan adalah **ROC_AUC**."
   ]
  },
  {
   "cell_type": "markdown",
   "metadata": {},
   "source": [
    "## Data Understanding"
   ]
  },
  {
   "cell_type": "code",
   "execution_count": 1,
   "metadata": {},
   "outputs": [],
   "source": [
    "#import library\n",
    "import numpy as np \n",
    "import pandas as pd \n",
    "import seaborn as sns\n",
    "import matplotlib.pyplot as plt\n",
    "import matplotlib.ticker as ticker\n",
    "\n",
    "import warnings\n",
    "warnings.filterwarnings(\"ignore\")\n",
    "\n",
    "from sklearn.compose import ColumnTransformer\n",
    "from sklearn.preprocessing import OneHotEncoder,OrdinalEncoder,RobustScaler,MinMaxScaler\n",
    "import category_encoders as ce\n",
    "from sklearn.model_selection import train_test_split\n",
    "from sklearn.linear_model import LogisticRegression\n",
    "from sklearn.tree import  DecisionTreeClassifier\n",
    "from sklearn.ensemble import RandomForestClassifier, AdaBoostClassifier, GradientBoostingClassifier\n",
    "from sklearn.neighbors import KNeighborsClassifier\n",
    "from sklearn.pipeline import Pipeline\n",
    "from sklearn.metrics import f1_score, precision_score, recall_score, confusion_matrix,ConfusionMatrixDisplay, classification_report, roc_auc_score\n",
    "from sklearn.model_selection import cross_val_score, StratifiedKFold, GridSearchCV"
   ]
  },
  {
   "cell_type": "code",
   "execution_count": 2,
   "metadata": {},
   "outputs": [
    {
     "name": "stdout",
     "output_type": "stream",
     "text": [
      "<class 'pandas.core.frame.DataFrame'>\n",
      "RangeIndex: 7813 entries, 0 to 7812\n",
      "Data columns (total 11 columns):\n",
      " #   Column    Non-Null Count  Dtype \n",
      "---  ------    --------------  ----- \n",
      " 0   age       7813 non-null   int64 \n",
      " 1   job       7813 non-null   object\n",
      " 2   balance   7813 non-null   int64 \n",
      " 3   housing   7813 non-null   object\n",
      " 4   loan      7813 non-null   object\n",
      " 5   contact   7813 non-null   object\n",
      " 6   month     7813 non-null   object\n",
      " 7   campaign  7813 non-null   int64 \n",
      " 8   pdays     7813 non-null   int64 \n",
      " 9   poutcome  7813 non-null   object\n",
      " 10  deposit   7813 non-null   object\n",
      "dtypes: int64(4), object(7)\n",
      "memory usage: 671.6+ KB\n"
     ]
    },
    {
     "data": {
      "text/html": [
       "<div>\n",
       "<style scoped>\n",
       "    .dataframe tbody tr th:only-of-type {\n",
       "        vertical-align: middle;\n",
       "    }\n",
       "\n",
       "    .dataframe tbody tr th {\n",
       "        vertical-align: top;\n",
       "    }\n",
       "\n",
       "    .dataframe thead th {\n",
       "        text-align: right;\n",
       "    }\n",
       "</style>\n",
       "<table border=\"1\" class=\"dataframe\">\n",
       "  <thead>\n",
       "    <tr style=\"text-align: right;\">\n",
       "      <th></th>\n",
       "      <th>age</th>\n",
       "      <th>job</th>\n",
       "      <th>balance</th>\n",
       "      <th>housing</th>\n",
       "      <th>loan</th>\n",
       "      <th>contact</th>\n",
       "      <th>month</th>\n",
       "      <th>campaign</th>\n",
       "      <th>pdays</th>\n",
       "      <th>poutcome</th>\n",
       "      <th>deposit</th>\n",
       "    </tr>\n",
       "  </thead>\n",
       "  <tbody>\n",
       "    <tr>\n",
       "      <th>0</th>\n",
       "      <td>55</td>\n",
       "      <td>admin.</td>\n",
       "      <td>1662</td>\n",
       "      <td>no</td>\n",
       "      <td>no</td>\n",
       "      <td>cellular</td>\n",
       "      <td>jun</td>\n",
       "      <td>2</td>\n",
       "      <td>-1</td>\n",
       "      <td>unknown</td>\n",
       "      <td>yes</td>\n",
       "    </tr>\n",
       "    <tr>\n",
       "      <th>1</th>\n",
       "      <td>39</td>\n",
       "      <td>self-employed</td>\n",
       "      <td>-3058</td>\n",
       "      <td>yes</td>\n",
       "      <td>yes</td>\n",
       "      <td>cellular</td>\n",
       "      <td>apr</td>\n",
       "      <td>3</td>\n",
       "      <td>-1</td>\n",
       "      <td>unknown</td>\n",
       "      <td>yes</td>\n",
       "    </tr>\n",
       "    <tr>\n",
       "      <th>2</th>\n",
       "      <td>51</td>\n",
       "      <td>admin.</td>\n",
       "      <td>3025</td>\n",
       "      <td>no</td>\n",
       "      <td>no</td>\n",
       "      <td>cellular</td>\n",
       "      <td>may</td>\n",
       "      <td>1</td>\n",
       "      <td>352</td>\n",
       "      <td>other</td>\n",
       "      <td>yes</td>\n",
       "    </tr>\n",
       "    <tr>\n",
       "      <th>3</th>\n",
       "      <td>38</td>\n",
       "      <td>services</td>\n",
       "      <td>-87</td>\n",
       "      <td>yes</td>\n",
       "      <td>no</td>\n",
       "      <td>cellular</td>\n",
       "      <td>may</td>\n",
       "      <td>1</td>\n",
       "      <td>-1</td>\n",
       "      <td>unknown</td>\n",
       "      <td>no</td>\n",
       "    </tr>\n",
       "    <tr>\n",
       "      <th>4</th>\n",
       "      <td>36</td>\n",
       "      <td>housemaid</td>\n",
       "      <td>205</td>\n",
       "      <td>yes</td>\n",
       "      <td>no</td>\n",
       "      <td>telephone</td>\n",
       "      <td>nov</td>\n",
       "      <td>4</td>\n",
       "      <td>-1</td>\n",
       "      <td>unknown</td>\n",
       "      <td>no</td>\n",
       "    </tr>\n",
       "  </tbody>\n",
       "</table>\n",
       "</div>"
      ],
      "text/plain": [
       "   age            job  balance housing loan    contact month  campaign  pdays  \\\n",
       "0   55         admin.     1662      no   no   cellular   jun         2     -1   \n",
       "1   39  self-employed    -3058     yes  yes   cellular   apr         3     -1   \n",
       "2   51         admin.     3025      no   no   cellular   may         1    352   \n",
       "3   38       services      -87     yes   no   cellular   may         1     -1   \n",
       "4   36      housemaid      205     yes   no  telephone   nov         4     -1   \n",
       "\n",
       "  poutcome deposit  \n",
       "0  unknown     yes  \n",
       "1  unknown     yes  \n",
       "2    other     yes  \n",
       "3  unknown      no  \n",
       "4  unknown      no  "
      ]
     },
     "metadata": {},
     "output_type": "display_data"
    },
    {
     "data": {
      "text/plain": [
       "None"
      ]
     },
     "metadata": {},
     "output_type": "display_data"
    }
   ],
   "source": [
    "df = pd.read_csv('data_bank_marketing_campaign.csv')\n",
    "display(df.head(5),df.info())"
   ]
  },
  {
   "cell_type": "markdown",
   "metadata": {},
   "source": [
    "Features\n",
    "Profil customer\n",
    "1. age       : menunjukan umur customer\n",
    "2. job       : menunjukan pekerjaan customer\n",
    "3. balance   : menunjukan total tabungan customer (balance minus diasumsikan ada melakukan peminjaman)\n",
    "4. housing   : menunjukan customer memiliki rumah atau tidak\n",
    "5. loan      : menunjukan apakah punya hutang pribadi atau tidak\n",
    "\n",
    "Data marketing\n",
    "\n",
    "6. contact   : tipe alat komunikasi\n",
    "7. month     : bulan terahir di kontak\n",
    "8. campaign  : sudah berapa kali di kontak dalam periode kampanye pemasaran sekarang\n",
    "9. pdays     : jumlah hari setelah terahir dikontak di kampanye sebelumnya (-1 tidak di kotak di periode kampanye pemasaran sebelumnya)\n",
    "10. poutcame : menunjukan status dari kampanye sebelumnya\n"
   ]
  },
  {
   "cell_type": "markdown",
   "metadata": {},
   "source": [
    "Target : \n",
    "Deposit  : menunjukan apakah melakukan deposit atau tidak\n",
    "\n",
    "Tidak (0)  : Tidak menempatkan deposit\n",
    "\n",
    "Ya (1)  : Menempatkan deposit"
   ]
  },
  {
   "cell_type": "markdown",
   "metadata": {},
   "source": [
    "## Data Cleaning"
   ]
  },
  {
   "cell_type": "code",
   "execution_count": 3,
   "metadata": {},
   "outputs": [
    {
     "data": {
      "text/html": [
       "<div>\n",
       "<style scoped>\n",
       "    .dataframe tbody tr th:only-of-type {\n",
       "        vertical-align: middle;\n",
       "    }\n",
       "\n",
       "    .dataframe tbody tr th {\n",
       "        vertical-align: top;\n",
       "    }\n",
       "\n",
       "    .dataframe thead th {\n",
       "        text-align: right;\n",
       "    }\n",
       "</style>\n",
       "<table border=\"1\" class=\"dataframe\">\n",
       "  <thead>\n",
       "    <tr style=\"text-align: right;\">\n",
       "      <th></th>\n",
       "      <th>Columns</th>\n",
       "      <th>CountData</th>\n",
       "      <th>DataType</th>\n",
       "      <th>Null</th>\n",
       "      <th>%Null</th>\n",
       "      <th>Nunique</th>\n",
       "      <th>Unique</th>\n",
       "    </tr>\n",
       "  </thead>\n",
       "  <tbody>\n",
       "    <tr>\n",
       "      <th>0</th>\n",
       "      <td>age</td>\n",
       "      <td>7813</td>\n",
       "      <td>int64</td>\n",
       "      <td>0</td>\n",
       "      <td>0.0</td>\n",
       "      <td>75</td>\n",
       "      <td>[55, 39, 51, 38, 36, 41, 37, 35, 57, 23, 33, 3...</td>\n",
       "    </tr>\n",
       "    <tr>\n",
       "      <th>1</th>\n",
       "      <td>job</td>\n",
       "      <td>7813</td>\n",
       "      <td>object</td>\n",
       "      <td>0</td>\n",
       "      <td>0.0</td>\n",
       "      <td>12</td>\n",
       "      <td>[admin., self-employed, services, housemaid, t...</td>\n",
       "    </tr>\n",
       "    <tr>\n",
       "      <th>2</th>\n",
       "      <td>balance</td>\n",
       "      <td>7813</td>\n",
       "      <td>int64</td>\n",
       "      <td>0</td>\n",
       "      <td>0.0</td>\n",
       "      <td>3153</td>\n",
       "      <td>[1662, -3058, 3025, -87, 205, -76, 4803, 911, ...</td>\n",
       "    </tr>\n",
       "    <tr>\n",
       "      <th>3</th>\n",
       "      <td>housing</td>\n",
       "      <td>7813</td>\n",
       "      <td>object</td>\n",
       "      <td>0</td>\n",
       "      <td>0.0</td>\n",
       "      <td>2</td>\n",
       "      <td>[no, yes]</td>\n",
       "    </tr>\n",
       "    <tr>\n",
       "      <th>4</th>\n",
       "      <td>loan</td>\n",
       "      <td>7813</td>\n",
       "      <td>object</td>\n",
       "      <td>0</td>\n",
       "      <td>0.0</td>\n",
       "      <td>2</td>\n",
       "      <td>[no, yes]</td>\n",
       "    </tr>\n",
       "    <tr>\n",
       "      <th>5</th>\n",
       "      <td>contact</td>\n",
       "      <td>7813</td>\n",
       "      <td>object</td>\n",
       "      <td>0</td>\n",
       "      <td>0.0</td>\n",
       "      <td>3</td>\n",
       "      <td>[cellular, telephone, unknown]</td>\n",
       "    </tr>\n",
       "    <tr>\n",
       "      <th>6</th>\n",
       "      <td>month</td>\n",
       "      <td>7813</td>\n",
       "      <td>object</td>\n",
       "      <td>0</td>\n",
       "      <td>0.0</td>\n",
       "      <td>12</td>\n",
       "      <td>[jun, apr, may, nov, jan, sep, feb, mar, aug, ...</td>\n",
       "    </tr>\n",
       "    <tr>\n",
       "      <th>7</th>\n",
       "      <td>campaign</td>\n",
       "      <td>7813</td>\n",
       "      <td>int64</td>\n",
       "      <td>0</td>\n",
       "      <td>0.0</td>\n",
       "      <td>32</td>\n",
       "      <td>[2, 3, 1, 4, 5, 6, 7, 30, 8, 9, 11, 14, 10, 28...</td>\n",
       "    </tr>\n",
       "    <tr>\n",
       "      <th>8</th>\n",
       "      <td>pdays</td>\n",
       "      <td>7813</td>\n",
       "      <td>int64</td>\n",
       "      <td>0</td>\n",
       "      <td>0.0</td>\n",
       "      <td>422</td>\n",
       "      <td>[-1, 352, 21, 91, 186, 263, 96, 355, 294, 412,...</td>\n",
       "    </tr>\n",
       "    <tr>\n",
       "      <th>9</th>\n",
       "      <td>poutcome</td>\n",
       "      <td>7813</td>\n",
       "      <td>object</td>\n",
       "      <td>0</td>\n",
       "      <td>0.0</td>\n",
       "      <td>4</td>\n",
       "      <td>[unknown, other, failure, success]</td>\n",
       "    </tr>\n",
       "    <tr>\n",
       "      <th>10</th>\n",
       "      <td>deposit</td>\n",
       "      <td>7813</td>\n",
       "      <td>object</td>\n",
       "      <td>0</td>\n",
       "      <td>0.0</td>\n",
       "      <td>2</td>\n",
       "      <td>[yes, no]</td>\n",
       "    </tr>\n",
       "  </tbody>\n",
       "</table>\n",
       "</div>"
      ],
      "text/plain": [
       "     Columns  CountData DataType  Null  %Null  Nunique  \\\n",
       "0        age       7813    int64     0    0.0       75   \n",
       "1        job       7813   object     0    0.0       12   \n",
       "2    balance       7813    int64     0    0.0     3153   \n",
       "3    housing       7813   object     0    0.0        2   \n",
       "4       loan       7813   object     0    0.0        2   \n",
       "5    contact       7813   object     0    0.0        3   \n",
       "6      month       7813   object     0    0.0       12   \n",
       "7   campaign       7813    int64     0    0.0       32   \n",
       "8      pdays       7813    int64     0    0.0      422   \n",
       "9   poutcome       7813   object     0    0.0        4   \n",
       "10   deposit       7813   object     0    0.0        2   \n",
       "\n",
       "                                               Unique  \n",
       "0   [55, 39, 51, 38, 36, 41, 37, 35, 57, 23, 33, 3...  \n",
       "1   [admin., self-employed, services, housemaid, t...  \n",
       "2   [1662, -3058, 3025, -87, 205, -76, 4803, 911, ...  \n",
       "3                                           [no, yes]  \n",
       "4                                           [no, yes]  \n",
       "5                      [cellular, telephone, unknown]  \n",
       "6   [jun, apr, may, nov, jan, sep, feb, mar, aug, ...  \n",
       "7   [2, 3, 1, 4, 5, 6, 7, 30, 8, 9, 11, 14, 10, 28...  \n",
       "8   [-1, 352, 21, 91, 186, 263, 96, 355, 294, 412,...  \n",
       "9                  [unknown, other, failure, success]  \n",
       "10                                          [yes, no]  "
      ]
     },
     "metadata": {},
     "output_type": "display_data"
    }
   ],
   "source": [
    "listData = []\n",
    "for col in df.columns:\n",
    "    listData.append([col, df[col].count() ,df[col].dtype, df[col].isna().sum(), round((df[col].isna().sum()/len(df[col]))*100,2), df[col].nunique(), df[col].unique()])\n",
    "\n",
    "df1 = pd.DataFrame(columns=['Columns','CountData', 'DataType', 'Null','%Null','Nunique','Unique'],data=listData)\n",
    "display(df1)"
   ]
  },
  {
   "cell_type": "markdown",
   "metadata": {},
   "source": [
    "1. Tipe Data Error\n",
    "\n",
    "Berdasarkan tabel di atas, dataset tidak terdapat kesalahan tipe data sehingga tidak ada yang diubah. Termasuk kolom `month`, tidak perlu mengubah tipe datanya menjadi 'tanggal' karena nilainya hanya berisi nama bulan yang terdiri dari 3 huruf, bukan format dd-mm-yy."
   ]
  },
  {
   "cell_type": "markdown",
   "metadata": {},
   "source": [
    "2. Check Missing Values\n",
    "\n",
    "Berdasarkan tabel di atas, tidak ditemukan missing value pada dataset, meskipun terdapat nilai '-1' pada kolom `pdays`. Nilai ini menunjukkan bahwa pelanggan akan dihubungi besok."
   ]
  },
  {
   "cell_type": "markdown",
   "metadata": {},
   "source": [
    "3. Check Unique Value"
   ]
  },
  {
   "cell_type": "code",
   "execution_count": 4,
   "metadata": {},
   "outputs": [
    {
     "data": {
      "text/plain": [
       "array(['yes', 'no'], dtype=object)"
      ]
     },
     "execution_count": 4,
     "metadata": {},
     "output_type": "execute_result"
    }
   ],
   "source": [
    "df['deposit'].unique()"
   ]
  },
  {
   "cell_type": "markdown",
   "metadata": {},
   "source": [
    "4. Check Data Duplikat"
   ]
  },
  {
   "cell_type": "code",
   "execution_count": 7,
   "metadata": {},
   "outputs": [
    {
     "data": {
      "text/plain": [
       "8"
      ]
     },
     "execution_count": 7,
     "metadata": {},
     "output_type": "execute_result"
    }
   ],
   "source": [
    "# Identifikasi data duplikat\n",
    "df.duplicated().sum()"
   ]
  },
  {
   "cell_type": "code",
   "execution_count": 8,
   "metadata": {},
   "outputs": [],
   "source": [
    "# Menghapus semua data duplikat\n",
    "df.drop_duplicates(inplace= True)"
   ]
  },
  {
   "cell_type": "markdown",
   "metadata": {},
   "source": [
    "5. Check Outliers"
   ]
  },
  {
   "cell_type": "code",
   "execution_count": 9,
   "metadata": {},
   "outputs": [
    {
     "data": {
      "image/png": "[encoded data removed]",
      "text/plain": [
       "<Figure size 1800x1200 with 6 Axes>"
      ]
     },
     "metadata": {},
     "output_type": "display_data"
    }
   ],
   "source": [
    "def numerical_boxplots(data):                                                           \n",
    "    numerical_columns = data.select_dtypes(include=['int64', 'float64']).columns\n",
    "    num_plots = len(numerical_columns)\n",
    "    num_rows = (num_plots + 2) // 3\n",
    "\n",
    "    fig, axes = plt.subplots(num_rows, 3, figsize=(18, 6 * num_rows))\n",
    "    axes = axes.ravel()                                                                 \n",
    "\n",
    "    for i, column in enumerate(numerical_columns):                                      \n",
    "        sns.boxplot(data=data, x=column, ax=axes[i])\n",
    "        axes[i].set_title(f'Box Plot of {column}')\n",
    "\n",
    "    # Hide any empty subplots\n",
    "    for i in range(num_plots, num_rows * 3):\n",
    "        axes[i].axis('off')\n",
    "\n",
    "    plt.tight_layout()\n",
    "    plt.show()\n",
    "\n",
    "\n",
    "numerical_boxplots(df)"
   ]
  },
  {
   "cell_type": "markdown",
   "metadata": {},
   "source": [
    "Dari setiap boxplot di atas, tidak perlu menghilangkan outlier. Ini karena semua nilai berisi informasi berharga yang tidak mempengaruhi klasifikasi secara negatif."
   ]
  },
  {
   "cell_type": "markdown",
   "metadata": {},
   "source": [
    "## EDA (Exploratory Data Analysis)"
   ]
  },
  {
   "cell_type": "code",
   "execution_count": 10,
   "metadata": {},
   "outputs": [
    {
     "data": {
      "image/png": "[encoded data removed]",
      "text/plain": [
       "<Figure size 640x480 with 2 Axes>"
      ]
     },
     "metadata": {},
     "output_type": "display_data"
    }
   ],
   "source": [
    "correlation_matrix = df[['age', 'balance', 'campaign', 'pdays']].corr()\n",
    "sns.heatmap(correlation_matrix,cmap='coolwarm',annot=True)\n",
    "plt.show()"
   ]
  },
  {
   "cell_type": "markdown",
   "metadata": {},
   "source": [
    "Berdasarkan heatmap, terdapat korelasi negatif antara kolom 'campaingn' dan 'pdays'. Hal ini menunjukkan bahwa jika calon pelanggan lebih sering dihubungi selama kampanye, maka jumlah hari yang berlalu sejak kontak terakhir akan berkurang."
   ]
  },
  {
   "cell_type": "code",
   "execution_count": 11,
   "metadata": {},
   "outputs": [
    {
     "data": {
      "image/png": "[encoded data removed]",
      "text/plain": [
       "<Figure size 2000x2000 with 4 Axes>"
      ]
     },
     "metadata": {},
     "output_type": "display_data"
    }
   ],
   "source": [
    "count = 0\n",
    "fig = plt.figure(figsize=(20,20))\n",
    "for i in df[['housing','loan','contact','job']]:\n",
    "    count +=1\n",
    "    ax= plt.subplot(4,2,count)\n",
    "    pd.crosstab(df[i],df['deposit'],normalize=True).plot(kind='bar',stacked=True,ax=ax)\n",
    "plt.show()"
   ]
  },
  {
   "cell_type": "markdown",
   "metadata": {},
   "source": [
    "1. Berdasarkan barplot `housing`, calon nasabah yang tidak memiliki KPR cenderung memiliki potensi minat simpanan yang lebih tinggi dibandingkan dengan yang memiliki KPR.\n",
    "2. Berdasrakan barplot `loan`, Calon nasabah yang tidak memiliki pinjaman pribadi cenderung memiliki potensi minat simpanan yang lebih tinggi dibandingkan dengan yang memiliki pinjaman.\n",
    "3. Berdasarkan barplot `contact`, menghubungi calon nasabah melalui komunikasi seluler mempunyai potensi lebih tinggi dalam menarik minat calon nasabah yang berminat melakukan deposit.\n",
    "4. Berdasarkan barplot `job`, calon nasabah yang bekerja di bidang manajemen memiliki potensi minat simpanan yang lebih tinggi."
   ]
  },
  {
   "cell_type": "markdown",
   "metadata": {},
   "source": [
    "## Data Preprocessing - Feature Engineering "
   ]
  },
  {
   "cell_type": "markdown",
   "metadata": {},
   "source": [
    "1. Ganti kolom nilai `deposit` (target) dari 'yes' menjadi '1' dan dari 'no' menjadi '0'."
   ]
  },
  {
   "cell_type": "code",
   "execution_count": 12,
   "metadata": {},
   "outputs": [],
   "source": [
    "df['deposit'] = df['deposit'].replace({'no':0,'yes':1}) "
   ]
  },
  {
   "cell_type": "markdown",
   "metadata": {},
   "source": [
    "2. Splitting dataset"
   ]
  },
  {
   "cell_type": "code",
   "execution_count": 13,
   "metadata": {},
   "outputs": [],
   "source": [
    "X = df.drop(columns=['deposit'])\n",
    "y = df['deposit']\n",
    "X_train,X_test,y_train,y_test = train_test_split(X,y,random_state=42,stratify=y,test_size=0.2)"
   ]
  },
  {
   "cell_type": "markdown",
   "metadata": {},
   "source": [
    "3. Kemudian saya ingin melakukan feature encoding dan scaling untuk fitur kategorikal dan numerik dalam kumpulan data. Yang saya lakukan adalah:\n",
    "- Kategorikal\n",
    "     - Merubah fitur kolom `job` menggunakan Binery Encoding karena kolom tersebut tidak memiliki urutan bawaan dan memiliki 12 nilai unik. Jika saya menggunakan One Hot Encoding, akan menghasilkan terlalu banyak kolom baru, yang berpotensi menyebabkan overfitting.\n",
    "     - Merubah fitur kolom `housing` menggunakan One Hot Encoding karena kolom tersebut tidak memiliki urutan bawaan dan hanya memiliki 2 nilai unik.\n",
    "     - Merubah fitur kolom kolom `loan` menggunakan One Hot Encoding karena kolom tersebut tidak memiliki urutan bawaan dan hanya memiliki 2 nilai unik.\n",
    "     - Merubah fitur  kolom `Contact` menggunakan One Hot Encoding karena kolom tersebut tidak memiliki urutan bawaan dan hanya memiliki 3 nilai unik.\n",
    "     - Merubah fitur kolom `month` menggunakan Ordinal Encoding karena kolom tersebut memiliki urutan bawaan dan memiliki 12 nilai unik.\n",
    "     - Merubah fitur kolom `poutcome` menggunakan One Hot Encoding karena kolom tersebut tidak memiliki urutan bawaan dan memiliki 4 nilai unik.\n",
    "\n",
    "- Numerikal\n",
    "     - Menerapkan penskalaan pada kolom `balance`, dengan mempertimbangkan nilai minimum -6847 dan nilai maksimum 66653. Tujuannya adalah untuk berpotensi meningkatkan hasil pemodelan. Saya akan menggunakan metode RobustScaler untuk memastikan bahwa data tetap teratur dan tidak sensitif terhadap outlier.\n",
    "     - Menerapkan penskalaan pada kolom `campaign`, meskipun nilai minimumnya adalah 1 dan nilai maksimumnya adalah 63. Tujuannya adalah untuk berpotensi meningkatkan hasil pemodelan. Saya akan menggunakan metode RobustScaler untuk menjaga urutan data dan memastikan bahwa data tidak terpengaruh oleh outlier.\n",
    "     - Menerapkan penskalaan pada kolom `pdays`, meskipun nilai minimumnya -1 dan nilai maksimumnya 854. Tujuannya adalah untuk berpotensi meningkatkan hasil pemodelan. Saya akan menggunakan metode RobustScaler untuk menjaga urutan data dan membuatnya kuat terhadap outlier.\n",
    "     - Menerapkan penskalaan pada kolom `age` karena sudah memiliki interval yang jelas untuk membedakan usia setiap calon pelanggan, dan rentang nilainya tidak terlalu besar, minimal 18 dan maksimal 95."
   ]
  },
  {
   "cell_type": "code",
   "execution_count": 14,
   "metadata": {},
   "outputs": [
    {
     "data": {
      "text/html": [
       "<style>#sk-container-id-1 {color: black;}#sk-container-id-1 pre{padding: 0;}#sk-container-id-1 div.sk-toggleable {background-color: white;}#sk-container-id-1 label.sk-toggleable__label {cursor: pointer;display: block;width: 100%;margin-bottom: 0;padding: 0.3em;box-sizing: border-box;text-align: center;}#sk-container-id-1 label.sk-toggleable__label-arrow:before {content: \"▸\";float: left;margin-right: 0.25em;color: #696969;}#sk-container-id-1 label.sk-toggleable__label-arrow:hover:before {color: black;}#sk-container-id-1 div.sk-estimator:hover label.sk-toggleable__label-arrow:before {color: black;}#sk-container-id-1 div.sk-toggleable__content {max-height: 0;max-width: 0;overflow: hidden;text-align: left;background-color: #f0f8ff;}#sk-container-id-1 div.sk-toggleable__content pre {margin: 0.2em;color: black;border-radius: 0.25em;background-color: #f0f8ff;}#sk-container-id-1 input.sk-toggleable__control:checked~div.sk-toggleable__content {max-height: 200px;max-width: 100%;overflow: auto;}#sk-container-id-1 input.sk-toggleable__control:checked~label.sk-toggleable__label-arrow:before {content: \"▾\";}#sk-container-id-1 div.sk-estimator input.sk-toggleable__control:checked~label.sk-toggleable__label {background-color: #d4ebff;}#sk-container-id-1 div.sk-label input.sk-toggleable__control:checked~label.sk-toggleable__label {background-color: #d4ebff;}#sk-container-id-1 input.sk-hidden--visually {border: 0;clip: rect(1px 1px 1px 1px);clip: rect(1px, 1px, 1px, 1px);height: 1px;margin: -1px;overflow: hidden;padding: 0;position: absolute;width: 1px;}#sk-container-id-1 div.sk-estimator {font-family: monospace;background-color: #f0f8ff;border: 1px dotted black;border-radius: 0.25em;box-sizing: border-box;margin-bottom: 0.5em;}#sk-container-id-1 div.sk-estimator:hover {background-color: #d4ebff;}#sk-container-id-1 div.sk-parallel-item::after {content: \"\";width: 100%;border-bottom: 1px solid gray;flex-grow: 1;}#sk-container-id-1 div.sk-label:hover label.sk-toggleable__label {background-color: #d4ebff;}#sk-container-id-1 div.sk-serial::before {content: \"\";position: absolute;border-left: 1px solid gray;box-sizing: border-box;top: 0;bottom: 0;left: 50%;z-index: 0;}#sk-container-id-1 div.sk-serial {display: flex;flex-direction: column;align-items: center;background-color: white;padding-right: 0.2em;padding-left: 0.2em;position: relative;}#sk-container-id-1 div.sk-item {position: relative;z-index: 1;}#sk-container-id-1 div.sk-parallel {display: flex;align-items: stretch;justify-content: center;background-color: white;position: relative;}#sk-container-id-1 div.sk-item::before, #sk-container-id-1 div.sk-parallel-item::before {content: \"\";position: absolute;border-left: 1px solid gray;box-sizing: border-box;top: 0;bottom: 0;left: 50%;z-index: -1;}#sk-container-id-1 div.sk-parallel-item {display: flex;flex-direction: column;z-index: 1;position: relative;background-color: white;}#sk-container-id-1 div.sk-parallel-item:first-child::after {align-self: flex-end;width: 50%;}#sk-container-id-1 div.sk-parallel-item:last-child::after {align-self: flex-start;width: 50%;}#sk-container-id-1 div.sk-parallel-item:only-child::after {width: 0;}#sk-container-id-1 div.sk-dashed-wrapped {border: 1px dashed gray;margin: 0 0.4em 0.5em 0.4em;box-sizing: border-box;padding-bottom: 0.4em;background-color: white;}#sk-container-id-1 div.sk-label label {font-family: monospace;font-weight: bold;display: inline-block;line-height: 1.2em;}#sk-container-id-1 div.sk-label-container {text-align: center;}#sk-container-id-1 div.sk-container {/* jupyter's `normalize.less` sets `[hidden] { display: none; }` but bootstrap.min.css set `[hidden] { display: none !important; }` so we also need the `!important` here to be able to override the default hidden behavior on the sphinx rendered scikit-learn.org. See: https://github.com/scikit-learn/scikit-learn/issues/21755 */display: inline-block !important;position: relative;}#sk-container-id-1 div.sk-text-repr-fallback {display: none;}</style><div id=\"sk-container-id-1\" class=\"sk-top-container\"><div class=\"sk-text-repr-fallback\"><pre>ColumnTransformer(remainder=&#x27;passthrough&#x27;,\n",
       "                  transformers=[(&#x27;BinaryEncoding&#x27;, BinaryEncoder(), [&#x27;job&#x27;]),\n",
       "                                (&#x27;OrdinalEncoding&#x27;, OrdinalEncoder(),\n",
       "                                 [&#x27;month&#x27;]),\n",
       "                                (&#x27;OneHotEncoding&#x27;, OneHotEncoder(drop=&#x27;first&#x27;),\n",
       "                                 [&#x27;housing&#x27;, &#x27;loan&#x27;, &#x27;contact&#x27;, &#x27;poutcome&#x27;]),\n",
       "                                (&#x27;RobustScaler&#x27;, RobustScaler(),\n",
       "                                 [&#x27;balance&#x27;, &#x27;campaign&#x27;, &#x27;pdays&#x27;])],\n",
       "                  verbose_feature_names_out=False)</pre><b>In a Jupyter environment, please rerun this cell to show the HTML representation or trust the notebook. <br />On GitHub, the HTML representation is unable to render, please try loading this page with nbviewer.org.</b></div><div class=\"sk-container\" hidden><div class=\"sk-item sk-dashed-wrapped\"><div class=\"sk-label-container\"><div class=\"sk-label sk-toggleable\"><input class=\"sk-toggleable__control sk-hidden--visually\" id=\"sk-estimator-id-1\" type=\"checkbox\" ><label for=\"sk-estimator-id-1\" class=\"sk-toggleable__label sk-toggleable__label-arrow\">ColumnTransformer</label><div class=\"sk-toggleable__content\"><pre>ColumnTransformer(remainder=&#x27;passthrough&#x27;,\n",
       "                  transformers=[(&#x27;BinaryEncoding&#x27;, BinaryEncoder(), [&#x27;job&#x27;]),\n",
       "                                (&#x27;OrdinalEncoding&#x27;, OrdinalEncoder(),\n",
       "                                 [&#x27;month&#x27;]),\n",
       "                                (&#x27;OneHotEncoding&#x27;, OneHotEncoder(drop=&#x27;first&#x27;),\n",
       "                                 [&#x27;housing&#x27;, &#x27;loan&#x27;, &#x27;contact&#x27;, &#x27;poutcome&#x27;]),\n",
       "                                (&#x27;RobustScaler&#x27;, RobustScaler(),\n",
       "                                 [&#x27;balance&#x27;, &#x27;campaign&#x27;, &#x27;pdays&#x27;])],\n",
       "                  verbose_feature_names_out=False)</pre></div></div></div><div class=\"sk-parallel\"><div class=\"sk-parallel-item\"><div class=\"sk-item\"><div class=\"sk-label-container\"><div class=\"sk-label sk-toggleable\"><input class=\"sk-toggleable__control sk-hidden--visually\" id=\"sk-estimator-id-2\" type=\"checkbox\" ><label for=\"sk-estimator-id-2\" class=\"sk-toggleable__label sk-toggleable__label-arrow\">BinaryEncoding</label><div class=\"sk-toggleable__content\"><pre>[&#x27;job&#x27;]</pre></div></div></div><div class=\"sk-serial\"><div class=\"sk-item\"><div class=\"sk-estimator sk-toggleable\"><input class=\"sk-toggleable__control sk-hidden--visually\" id=\"sk-estimator-id-3\" type=\"checkbox\" ><label for=\"sk-estimator-id-3\" class=\"sk-toggleable__label sk-toggleable__label-arrow\">BinaryEncoder</label><div class=\"sk-toggleable__content\"><pre>BinaryEncoder()</pre></div></div></div></div></div></div><div class=\"sk-parallel-item\"><div class=\"sk-item\"><div class=\"sk-label-container\"><div class=\"sk-label sk-toggleable\"><input class=\"sk-toggleable__control sk-hidden--visually\" id=\"sk-estimator-id-4\" type=\"checkbox\" ><label for=\"sk-estimator-id-4\" class=\"sk-toggleable__label sk-toggleable__label-arrow\">OrdinalEncoding</label><div class=\"sk-toggleable__content\"><pre>[&#x27;month&#x27;]</pre></div></div></div><div class=\"sk-serial\"><div class=\"sk-item\"><div class=\"sk-estimator sk-toggleable\"><input class=\"sk-toggleable__control sk-hidden--visually\" id=\"sk-estimator-id-5\" type=\"checkbox\" ><label for=\"sk-estimator-id-5\" class=\"sk-toggleable__label sk-toggleable__label-arrow\">OrdinalEncoder</label><div class=\"sk-toggleable__content\"><pre>OrdinalEncoder()</pre></div></div></div></div></div></div><div class=\"sk-parallel-item\"><div class=\"sk-item\"><div class=\"sk-label-container\"><div class=\"sk-label sk-toggleable\"><input class=\"sk-toggleable__control sk-hidden--visually\" id=\"sk-estimator-id-6\" type=\"checkbox\" ><label for=\"sk-estimator-id-6\" class=\"sk-toggleable__label sk-toggleable__label-arrow\">OneHotEncoding</label><div class=\"sk-toggleable__content\"><pre>[&#x27;housing&#x27;, &#x27;loan&#x27;, &#x27;contact&#x27;, &#x27;poutcome&#x27;]</pre></div></div></div><div class=\"sk-serial\"><div class=\"sk-item\"><div class=\"sk-estimator sk-toggleable\"><input class=\"sk-toggleable__control sk-hidden--visually\" id=\"sk-estimator-id-7\" type=\"checkbox\" ><label for=\"sk-estimator-id-7\" class=\"sk-toggleable__label sk-toggleable__label-arrow\">OneHotEncoder</label><div class=\"sk-toggleable__content\"><pre>OneHotEncoder(drop=&#x27;first&#x27;)</pre></div></div></div></div></div></div><div class=\"sk-parallel-item\"><div class=\"sk-item\"><div class=\"sk-label-container\"><div class=\"sk-label sk-toggleable\"><input class=\"sk-toggleable__control sk-hidden--visually\" id=\"sk-estimator-id-8\" type=\"checkbox\" ><label for=\"sk-estimator-id-8\" class=\"sk-toggleable__label sk-toggleable__label-arrow\">RobustScaler</label><div class=\"sk-toggleable__content\"><pre>[&#x27;balance&#x27;, &#x27;campaign&#x27;, &#x27;pdays&#x27;]</pre></div></div></div><div class=\"sk-serial\"><div class=\"sk-item\"><div class=\"sk-estimator sk-toggleable\"><input class=\"sk-toggleable__control sk-hidden--visually\" id=\"sk-estimator-id-9\" type=\"checkbox\" ><label for=\"sk-estimator-id-9\" class=\"sk-toggleable__label sk-toggleable__label-arrow\">RobustScaler</label><div class=\"sk-toggleable__content\"><pre>RobustScaler()</pre></div></div></div></div></div></div><div class=\"sk-parallel-item\"><div class=\"sk-item\"><div class=\"sk-label-container\"><div class=\"sk-label sk-toggleable\"><input class=\"sk-toggleable__control sk-hidden--visually\" id=\"sk-estimator-id-10\" type=\"checkbox\" ><label for=\"sk-estimator-id-10\" class=\"sk-toggleable__label sk-toggleable__label-arrow\">remainder</label><div class=\"sk-toggleable__content\"><pre>[&#x27;age&#x27;]</pre></div></div></div><div class=\"sk-serial\"><div class=\"sk-item\"><div class=\"sk-estimator sk-toggleable\"><input class=\"sk-toggleable__control sk-hidden--visually\" id=\"sk-estimator-id-11\" type=\"checkbox\" ><label for=\"sk-estimator-id-11\" class=\"sk-toggleable__label sk-toggleable__label-arrow\">passthrough</label><div class=\"sk-toggleable__content\"><pre>passthrough</pre></div></div></div></div></div></div></div></div></div></div>"
      ],
      "text/plain": [
       "ColumnTransformer(remainder='passthrough',\n",
       "                  transformers=[('BinaryEncoding', BinaryEncoder(), ['job']),\n",
       "                                ('OrdinalEncoding', OrdinalEncoder(),\n",
       "                                 ['month']),\n",
       "                                ('OneHotEncoding', OneHotEncoder(drop='first'),\n",
       "                                 ['housing', 'loan', 'contact', 'poutcome']),\n",
       "                                ('RobustScaler', RobustScaler(),\n",
       "                                 ['balance', 'campaign', 'pdays'])],\n",
       "                  verbose_feature_names_out=False)"
      ]
     },
     "execution_count": 14,
     "metadata": {},
     "output_type": "execute_result"
    }
   ],
   "source": [
    "ct = ColumnTransformer(transformers=[\n",
    "    (\"BinaryEncoding\",ce.BinaryEncoder(),['job']),\n",
    "    (\"OrdinalEncoding\",ce.OrdinalEncoder(),['month']),\n",
    "    (\"OneHotEncoding\",OneHotEncoder(drop='first'),['housing','loan','contact','poutcome']),\n",
    "    (\"RobustScaler\",RobustScaler(),['balance','campaign','pdays']),\n",
    "],remainder='passthrough',verbose_feature_names_out=False)\n",
    "\n",
    "ct.fit(X_train)"
   ]
  },
  {
   "cell_type": "code",
   "execution_count": 15,
   "metadata": {},
   "outputs": [],
   "source": [
    "bin_cols = ct.named_transformers_['BinaryEncoding'].get_feature_names_out()\n",
    "ord_cols = ct.named_transformers_['OrdinalEncoding'].get_feature_names_out()\n",
    "ohe_cols = ct.named_transformers_['OneHotEncoding'].get_feature_names_out()\n",
    "scal_cols = ct.named_transformers_['RobustScaler'].get_feature_names_out()\n",
    "all_cols = list(ohe_cols) + list(ord_cols) + list(bin_cols) + list(scal_cols) + ['age']"
   ]
  },
  {
   "cell_type": "code",
   "execution_count": 16,
   "metadata": {},
   "outputs": [
    {
     "data": {
      "text/html": [
       "<div>\n",
       "<style scoped>\n",
       "    .dataframe tbody tr th:only-of-type {\n",
       "        vertical-align: middle;\n",
       "    }\n",
       "\n",
       "    .dataframe tbody tr th {\n",
       "        vertical-align: top;\n",
       "    }\n",
       "\n",
       "    .dataframe thead th {\n",
       "        text-align: right;\n",
       "    }\n",
       "</style>\n",
       "<table border=\"1\" class=\"dataframe\">\n",
       "  <thead>\n",
       "    <tr style=\"text-align: right;\">\n",
       "      <th></th>\n",
       "      <th>housing_yes</th>\n",
       "      <th>loan_yes</th>\n",
       "      <th>contact_telephone</th>\n",
       "      <th>contact_unknown</th>\n",
       "      <th>poutcome_other</th>\n",
       "      <th>poutcome_success</th>\n",
       "      <th>poutcome_unknown</th>\n",
       "      <th>month</th>\n",
       "      <th>job_0</th>\n",
       "      <th>job_1</th>\n",
       "      <th>job_2</th>\n",
       "      <th>job_3</th>\n",
       "      <th>balance</th>\n",
       "      <th>campaign</th>\n",
       "      <th>pdays</th>\n",
       "      <th>age</th>\n",
       "    </tr>\n",
       "  </thead>\n",
       "  <tbody>\n",
       "    <tr>\n",
       "      <th>0</th>\n",
       "      <td>0.0</td>\n",
       "      <td>0.0</td>\n",
       "      <td>0.0</td>\n",
       "      <td>1.0</td>\n",
       "      <td>1.0</td>\n",
       "      <td>0.0</td>\n",
       "      <td>0.0</td>\n",
       "      <td>0.0</td>\n",
       "      <td>1.0</td>\n",
       "      <td>0.0</td>\n",
       "      <td>0.0</td>\n",
       "      <td>1.0</td>\n",
       "      <td>-0.246326</td>\n",
       "      <td>-0.5</td>\n",
       "      <td>0.000000</td>\n",
       "      <td>36.0</td>\n",
       "    </tr>\n",
       "    <tr>\n",
       "      <th>1</th>\n",
       "      <td>0.0</td>\n",
       "      <td>0.0</td>\n",
       "      <td>1.0</td>\n",
       "      <td>0.0</td>\n",
       "      <td>2.0</td>\n",
       "      <td>0.0</td>\n",
       "      <td>0.0</td>\n",
       "      <td>0.0</td>\n",
       "      <td>0.0</td>\n",
       "      <td>0.0</td>\n",
       "      <td>0.0</td>\n",
       "      <td>1.0</td>\n",
       "      <td>-0.335783</td>\n",
       "      <td>2.5</td>\n",
       "      <td>0.000000</td>\n",
       "      <td>33.0</td>\n",
       "    </tr>\n",
       "    <tr>\n",
       "      <th>2</th>\n",
       "      <td>0.0</td>\n",
       "      <td>0.0</td>\n",
       "      <td>1.0</td>\n",
       "      <td>0.0</td>\n",
       "      <td>3.0</td>\n",
       "      <td>0.0</td>\n",
       "      <td>0.0</td>\n",
       "      <td>0.0</td>\n",
       "      <td>0.0</td>\n",
       "      <td>0.0</td>\n",
       "      <td>1.0</td>\n",
       "      <td>0.0</td>\n",
       "      <td>0.241214</td>\n",
       "      <td>-0.5</td>\n",
       "      <td>2.079096</td>\n",
       "      <td>32.0</td>\n",
       "    </tr>\n",
       "    <tr>\n",
       "      <th>3</th>\n",
       "      <td>0.0</td>\n",
       "      <td>0.0</td>\n",
       "      <td>1.0</td>\n",
       "      <td>1.0</td>\n",
       "      <td>4.0</td>\n",
       "      <td>1.0</td>\n",
       "      <td>0.0</td>\n",
       "      <td>0.0</td>\n",
       "      <td>1.0</td>\n",
       "      <td>0.0</td>\n",
       "      <td>0.0</td>\n",
       "      <td>1.0</td>\n",
       "      <td>-0.187540</td>\n",
       "      <td>0.0</td>\n",
       "      <td>0.000000</td>\n",
       "      <td>55.0</td>\n",
       "    </tr>\n",
       "    <tr>\n",
       "      <th>4</th>\n",
       "      <td>0.0</td>\n",
       "      <td>1.0</td>\n",
       "      <td>0.0</td>\n",
       "      <td>0.0</td>\n",
       "      <td>5.0</td>\n",
       "      <td>1.0</td>\n",
       "      <td>0.0</td>\n",
       "      <td>0.0</td>\n",
       "      <td>0.0</td>\n",
       "      <td>0.0</td>\n",
       "      <td>0.0</td>\n",
       "      <td>0.0</td>\n",
       "      <td>0.094888</td>\n",
       "      <td>-0.5</td>\n",
       "      <td>7.299435</td>\n",
       "      <td>33.0</td>\n",
       "    </tr>\n",
       "    <tr>\n",
       "      <th>...</th>\n",
       "      <td>...</td>\n",
       "      <td>...</td>\n",
       "      <td>...</td>\n",
       "      <td>...</td>\n",
       "      <td>...</td>\n",
       "      <td>...</td>\n",
       "      <td>...</td>\n",
       "      <td>...</td>\n",
       "      <td>...</td>\n",
       "      <td>...</td>\n",
       "      <td>...</td>\n",
       "      <td>...</td>\n",
       "      <td>...</td>\n",
       "      <td>...</td>\n",
       "      <td>...</td>\n",
       "      <td>...</td>\n",
       "    </tr>\n",
       "    <tr>\n",
       "      <th>6239</th>\n",
       "      <td>0.0</td>\n",
       "      <td>0.0</td>\n",
       "      <td>1.0</td>\n",
       "      <td>0.0</td>\n",
       "      <td>10.0</td>\n",
       "      <td>0.0</td>\n",
       "      <td>0.0</td>\n",
       "      <td>0.0</td>\n",
       "      <td>0.0</td>\n",
       "      <td>0.0</td>\n",
       "      <td>0.0</td>\n",
       "      <td>1.0</td>\n",
       "      <td>0.197125</td>\n",
       "      <td>0.0</td>\n",
       "      <td>0.000000</td>\n",
       "      <td>28.0</td>\n",
       "    </tr>\n",
       "    <tr>\n",
       "      <th>6240</th>\n",
       "      <td>0.0</td>\n",
       "      <td>1.0</td>\n",
       "      <td>0.0</td>\n",
       "      <td>0.0</td>\n",
       "      <td>4.0</td>\n",
       "      <td>1.0</td>\n",
       "      <td>1.0</td>\n",
       "      <td>0.0</td>\n",
       "      <td>0.0</td>\n",
       "      <td>0.0</td>\n",
       "      <td>0.0</td>\n",
       "      <td>1.0</td>\n",
       "      <td>-0.361981</td>\n",
       "      <td>-0.5</td>\n",
       "      <td>0.000000</td>\n",
       "      <td>56.0</td>\n",
       "    </tr>\n",
       "    <tr>\n",
       "      <th>6241</th>\n",
       "      <td>0.0</td>\n",
       "      <td>1.0</td>\n",
       "      <td>0.0</td>\n",
       "      <td>0.0</td>\n",
       "      <td>12.0</td>\n",
       "      <td>0.0</td>\n",
       "      <td>0.0</td>\n",
       "      <td>0.0</td>\n",
       "      <td>0.0</td>\n",
       "      <td>1.0</td>\n",
       "      <td>0.0</td>\n",
       "      <td>0.0</td>\n",
       "      <td>0.029712</td>\n",
       "      <td>0.0</td>\n",
       "      <td>4.451977</td>\n",
       "      <td>32.0</td>\n",
       "    </tr>\n",
       "    <tr>\n",
       "      <th>6242</th>\n",
       "      <td>1.0</td>\n",
       "      <td>0.0</td>\n",
       "      <td>0.0</td>\n",
       "      <td>1.0</td>\n",
       "      <td>4.0</td>\n",
       "      <td>1.0</td>\n",
       "      <td>0.0</td>\n",
       "      <td>0.0</td>\n",
       "      <td>1.0</td>\n",
       "      <td>0.0</td>\n",
       "      <td>0.0</td>\n",
       "      <td>1.0</td>\n",
       "      <td>-0.022045</td>\n",
       "      <td>-0.5</td>\n",
       "      <td>0.000000</td>\n",
       "      <td>33.0</td>\n",
       "    </tr>\n",
       "    <tr>\n",
       "      <th>6243</th>\n",
       "      <td>1.0</td>\n",
       "      <td>0.0</td>\n",
       "      <td>0.0</td>\n",
       "      <td>0.0</td>\n",
       "      <td>5.0</td>\n",
       "      <td>0.0</td>\n",
       "      <td>0.0</td>\n",
       "      <td>1.0</td>\n",
       "      <td>0.0</td>\n",
       "      <td>0.0</td>\n",
       "      <td>0.0</td>\n",
       "      <td>1.0</td>\n",
       "      <td>-0.221406</td>\n",
       "      <td>0.5</td>\n",
       "      <td>0.000000</td>\n",
       "      <td>82.0</td>\n",
       "    </tr>\n",
       "  </tbody>\n",
       "</table>\n",
       "<p>6244 rows × 16 columns</p>\n",
       "</div>"
      ],
      "text/plain": [
       "      housing_yes  loan_yes  contact_telephone  contact_unknown  \\\n",
       "0             0.0       0.0                0.0              1.0   \n",
       "1             0.0       0.0                1.0              0.0   \n",
       "2             0.0       0.0                1.0              0.0   \n",
       "3             0.0       0.0                1.0              1.0   \n",
       "4             0.0       1.0                0.0              0.0   \n",
       "...           ...       ...                ...              ...   \n",
       "6239          0.0       0.0                1.0              0.0   \n",
       "6240          0.0       1.0                0.0              0.0   \n",
       "6241          0.0       1.0                0.0              0.0   \n",
       "6242          1.0       0.0                0.0              1.0   \n",
       "6243          1.0       0.0                0.0              0.0   \n",
       "\n",
       "      poutcome_other  poutcome_success  poutcome_unknown  month  job_0  job_1  \\\n",
       "0                1.0               0.0               0.0    0.0    1.0    0.0   \n",
       "1                2.0               0.0               0.0    0.0    0.0    0.0   \n",
       "2                3.0               0.0               0.0    0.0    0.0    0.0   \n",
       "3                4.0               1.0               0.0    0.0    1.0    0.0   \n",
       "4                5.0               1.0               0.0    0.0    0.0    0.0   \n",
       "...              ...               ...               ...    ...    ...    ...   \n",
       "6239            10.0               0.0               0.0    0.0    0.0    0.0   \n",
       "6240             4.0               1.0               1.0    0.0    0.0    0.0   \n",
       "6241            12.0               0.0               0.0    0.0    0.0    1.0   \n",
       "6242             4.0               1.0               0.0    0.0    1.0    0.0   \n",
       "6243             5.0               0.0               0.0    1.0    0.0    0.0   \n",
       "\n",
       "      job_2  job_3   balance  campaign     pdays   age  \n",
       "0       0.0    1.0 -0.246326      -0.5  0.000000  36.0  \n",
       "1       0.0    1.0 -0.335783       2.5  0.000000  33.0  \n",
       "2       1.0    0.0  0.241214      -0.5  2.079096  32.0  \n",
       "3       0.0    1.0 -0.187540       0.0  0.000000  55.0  \n",
       "4       0.0    0.0  0.094888      -0.5  7.299435  33.0  \n",
       "...     ...    ...       ...       ...       ...   ...  \n",
       "6239    0.0    1.0  0.197125       0.0  0.000000  28.0  \n",
       "6240    0.0    1.0 -0.361981      -0.5  0.000000  56.0  \n",
       "6241    0.0    0.0  0.029712       0.0  4.451977  32.0  \n",
       "6242    0.0    1.0 -0.022045      -0.5  0.000000  33.0  \n",
       "6243    0.0    1.0 -0.221406       0.5  0.000000  82.0  \n",
       "\n",
       "[6244 rows x 16 columns]"
      ]
     },
     "execution_count": 16,
     "metadata": {},
     "output_type": "execute_result"
    }
   ],
   "source": [
    "X_train_pre = ct.fit_transform(X_train)\n",
    "df_Xtrain_pre = pd.DataFrame(X_train_pre,columns=all_cols)\n",
    "df_Xtrain_pre"
   ]
  },
  {
   "cell_type": "markdown",
   "metadata": {},
   "source": [
    "## Model Benchmark"
   ]
  },
  {
   "cell_type": "code",
   "execution_count": 17,
   "metadata": {},
   "outputs": [],
   "source": [
    "logreg = LogisticRegression()\n",
    "knn = KNeighborsClassifier()\n",
    "tree = DecisionTreeClassifier(random_state=2020)\n",
    "rf = RandomForestClassifier(random_state=2020)\n",
    "gbc = GradientBoostingClassifier()\n",
    "abc = AdaBoostClassifier()\n",
    "\n",
    "models = [logreg,knn,tree,rf,gbc,abc]\n",
    "name_models = ['LogisticRegression','KNN','DecisionTree','Random Forest','GradientBoosting','AdaBoosting']"
   ]
  },
  {
   "cell_type": "markdown",
   "metadata": {},
   "source": [
    "1. Check 'Target' proposrsi"
   ]
  },
  {
   "cell_type": "code",
   "execution_count": 18,
   "metadata": {},
   "outputs": [
    {
     "data": {
      "text/plain": [
       "deposit\n",
       "0    0.522101\n",
       "1    0.477899\n",
       "Name: proportion, dtype: float64"
      ]
     },
     "execution_count": 18,
     "metadata": {},
     "output_type": "execute_result"
    }
   ],
   "source": [
    "y.value_counts(normalize=True)"
   ]
  },
  {
   "cell_type": "markdown",
   "metadata": {},
   "source": [
    "Berdasarkan pengecekan proporsi di atas, proporsi nilai 0 dan 1 seimbang, dengan selisih kurang dari 10% (4,5%). Oleh karena itu, tidak perlu menggunakan metode Imbalance untuk menyeimbangkan proporsi sasaran."
   ]
  },
  {
   "cell_type": "markdown",
   "metadata": {},
   "source": [
    "2. Membuat prediksi pada data latih dan uji dengan menggunakan `Cross Validation`"
   ]
  },
  {
   "cell_type": "code",
   "execution_count": 19,
   "metadata": {},
   "outputs": [],
   "source": [
    "def pipeline_cross_validation(model):\n",
    "    pipe = Pipeline([\n",
    "        (\"Column Transform\",ct),\n",
    "        (\"Model\",model)\n",
    "    ],verbose=False)    \n",
    "    return pipe"
   ]
  },
  {
   "cell_type": "code",
   "execution_count": 20,
   "metadata": {},
   "outputs": [],
   "source": [
    "test_score = []\n",
    "for model in models:\n",
    "    pipeline = pipeline_cross_validation(model)\n",
    "    pipeline.fit(X_train,y_train)    \n",
    "    test_predict = pipeline.predict(X_test)\n",
    "    test_predict_score= roc_auc_score(y_test,test_predict)\n",
    "    test_score.append(test_predict_score)"
   ]
  },
  {
   "cell_type": "code",
   "execution_count": 21,
   "metadata": {},
   "outputs": [],
   "source": [
    "def cross_validation(model,X_train,y_train):\n",
    "    pipe = pipeline_cross_validation(model)\n",
    "    pipe = pipe.fit(X_train,y_train)\n",
    "    cross_val = cross_val_score(pipe,X_train,y_train,cv=StratifiedKFold(n_splits=5),scoring='roc_auc')\n",
    "    return cross_val"
   ]
  },
  {
   "cell_type": "code",
   "execution_count": 22,
   "metadata": {},
   "outputs": [],
   "source": [
    "train_score_cval = []\n",
    "mean_score_cval = []\n",
    "std_score_cval =[]\n",
    "for model in models:\n",
    "    score_roc_auc = cross_validation(model,X_train,y_train)\n",
    "    mean_score_roc_auc = np.mean(score_roc_auc)\n",
    "    std_score_roc_auc = np.std(score_roc_auc)\n",
    "    train_score_cval.append(score_roc_auc)\n",
    "    mean_score_cval.append(mean_score_roc_auc)\n",
    "    std_score_cval.append(std_score_roc_auc)"
   ]
  },
  {
   "cell_type": "code",
   "execution_count": 23,
   "metadata": {},
   "outputs": [
    {
     "data": {
      "text/html": [
       "<div>\n",
       "<style scoped>\n",
       "    .dataframe tbody tr th:only-of-type {\n",
       "        vertical-align: middle;\n",
       "    }\n",
       "\n",
       "    .dataframe tbody tr th {\n",
       "        vertical-align: top;\n",
       "    }\n",
       "\n",
       "    .dataframe thead th {\n",
       "        text-align: right;\n",
       "    }\n",
       "</style>\n",
       "<table border=\"1\" class=\"dataframe\">\n",
       "  <thead>\n",
       "    <tr style=\"text-align: right;\">\n",
       "      <th></th>\n",
       "      <th>Model</th>\n",
       "      <th>Iteration1</th>\n",
       "      <th>Iteration2</th>\n",
       "      <th>Iteration3</th>\n",
       "      <th>Iteration4</th>\n",
       "      <th>Iteration5</th>\n",
       "      <th>Mean Score Cval</th>\n",
       "      <th>Std Score Cval</th>\n",
       "      <th>Test Score</th>\n",
       "    </tr>\n",
       "  </thead>\n",
       "  <tbody>\n",
       "    <tr>\n",
       "      <th>0</th>\n",
       "      <td>LogisticRegression</td>\n",
       "      <td>0.722043</td>\n",
       "      <td>0.735033</td>\n",
       "      <td>0.752838</td>\n",
       "      <td>0.744913</td>\n",
       "      <td>0.734295</td>\n",
       "      <td>0.737824</td>\n",
       "      <td>0.010440</td>\n",
       "      <td>0.689293</td>\n",
       "    </tr>\n",
       "    <tr>\n",
       "      <th>1</th>\n",
       "      <td>KNN</td>\n",
       "      <td>0.660742</td>\n",
       "      <td>0.702780</td>\n",
       "      <td>0.714091</td>\n",
       "      <td>0.684045</td>\n",
       "      <td>0.694429</td>\n",
       "      <td>0.691217</td>\n",
       "      <td>0.018151</td>\n",
       "      <td>0.655256</td>\n",
       "    </tr>\n",
       "    <tr>\n",
       "      <th>2</th>\n",
       "      <td>DecisionTree</td>\n",
       "      <td>0.608910</td>\n",
       "      <td>0.630152</td>\n",
       "      <td>0.611451</td>\n",
       "      <td>0.617641</td>\n",
       "      <td>0.619498</td>\n",
       "      <td>0.617530</td>\n",
       "      <td>0.007409</td>\n",
       "      <td>0.619400</td>\n",
       "    </tr>\n",
       "    <tr>\n",
       "      <th>3</th>\n",
       "      <td>Random Forest</td>\n",
       "      <td>0.746447</td>\n",
       "      <td>0.754243</td>\n",
       "      <td>0.769598</td>\n",
       "      <td>0.757733</td>\n",
       "      <td>0.756464</td>\n",
       "      <td>0.756897</td>\n",
       "      <td>0.007463</td>\n",
       "      <td>0.710730</td>\n",
       "    </tr>\n",
       "    <tr>\n",
       "      <th>4</th>\n",
       "      <td>GradientBoosting</td>\n",
       "      <td>0.764319</td>\n",
       "      <td>0.774196</td>\n",
       "      <td>0.788900</td>\n",
       "      <td>0.778771</td>\n",
       "      <td>0.771494</td>\n",
       "      <td>0.775536</td>\n",
       "      <td>0.008161</td>\n",
       "      <td>0.731737</td>\n",
       "    </tr>\n",
       "    <tr>\n",
       "      <th>5</th>\n",
       "      <td>AdaBoosting</td>\n",
       "      <td>0.749811</td>\n",
       "      <td>0.768351</td>\n",
       "      <td>0.779593</td>\n",
       "      <td>0.765156</td>\n",
       "      <td>0.762444</td>\n",
       "      <td>0.765071</td>\n",
       "      <td>0.009607</td>\n",
       "      <td>0.722978</td>\n",
       "    </tr>\n",
       "  </tbody>\n",
       "</table>\n",
       "</div>"
      ],
      "text/plain": [
       "                Model  Iteration1  Iteration2  Iteration3  Iteration4  \\\n",
       "0  LogisticRegression    0.722043    0.735033    0.752838    0.744913   \n",
       "1                 KNN    0.660742    0.702780    0.714091    0.684045   \n",
       "2        DecisionTree    0.608910    0.630152    0.611451    0.617641   \n",
       "3       Random Forest    0.746447    0.754243    0.769598    0.757733   \n",
       "4    GradientBoosting    0.764319    0.774196    0.788900    0.778771   \n",
       "5         AdaBoosting    0.749811    0.768351    0.779593    0.765156   \n",
       "\n",
       "   Iteration5  Mean Score Cval  Std Score Cval  Test Score  \n",
       "0    0.734295         0.737824        0.010440    0.689293  \n",
       "1    0.694429         0.691217        0.018151    0.655256  \n",
       "2    0.619498         0.617530        0.007409    0.619400  \n",
       "3    0.756464         0.756897        0.007463    0.710730  \n",
       "4    0.771494         0.775536        0.008161    0.731737  \n",
       "5    0.762444         0.765071        0.009607    0.722978  "
      ]
     },
     "execution_count": 23,
     "metadata": {},
     "output_type": "execute_result"
    }
   ],
   "source": [
    "data_mean_std_test_cval = list(zip(name_models,mean_score_cval,std_score_cval,test_score))\n",
    "df_train_score_cval = pd.DataFrame(data=train_score_cval,columns=['Iteration1','Iteration2','Iteration3','Iteration4','Iteration5'],index=name_models).reset_index().rename(columns={'index':'Model'})\n",
    "df_mean_std_test_cval = pd.DataFrame(data=data_mean_std_test_cval,columns=['Model','Mean Score Cval','Std Score Cval','Test Score'])\n",
    "df_cross_validation = df_train_score_cval.merge(df_mean_std_test_cval,on='Model')\n",
    "df_cross_validation"
   ]
  },
  {
   "cell_type": "markdown",
   "metadata": {},
   "source": [
    "Berdasarkan tabel di atas, setelah melakukan prediksi pada data pelatihan dan pengujian menggunakan metode evaluasi metrik 'ROC_AUC' dan 'Cross Validation', saya mendapat insight sebagai berikut :\n",
    "\n",
    "- Dari Iterasi1 hingga Iterasi5 dan nilai deviasi standarnya, terlihat bahwa semua model menunjukkan performa yang relatif stabil.\n",
    "- Model `DecisionTreeClassifier` dan `KNeighborsClassifier` menunjukkan underfitting. Hal ini dapat disimpulkan dari nilai yang lebih rendah pada 'Mean Score Cval' dan 'Test Score'.\n",
    "- Model `GradientBoostingClassifier` secara konsisten mencapai nilai tertinggi dan relatif stabil untuk 'Mean Score Cval' dan 'Test Score'.\n"
   ]
  },
  {
   "cell_type": "markdown",
   "metadata": {},
   "source": [
    "## Hyperparameter Tunning"
   ]
  },
  {
   "cell_type": "markdown",
   "metadata": {},
   "source": [
    "Penjelasan singkat GradientBoosting :\n",
    "\n",
    "GradientBoosting adalah ansambel learning. Ini menggabungkan beberapa model prediktif lemah (seringnya Decision Tree), untuk menciptakan model prediktif yang kuat. Algoritma ini bekerja dengan menyesuaikan model baru secara berulang dengan residu (perbedaan antara nilai aktual dan prediksi) model sebelumnya, dengan tujuan meminimalkan kesalahan prediksi secara keseluruhan.\n",
    "\n",
    "Pada GradientBoosting terdapat beberapa parameter penting yang dapat meningkatkan performa model saat melakukan tunning hyperparameter, yaitu :\n",
    "1. Learning Rate : Mengontrol kontribusi setiap model yang lemah terhadap prediksi akhir. Kecepatan pemelajaran yang lebih rendah membuat model lebih konservatif namun memerlukan lebih banyak iterasi agar dapat menyatu.\n",
    "2. Numbers of Estimator : Menentukan jumlah model lemah (pohon keputusan) yang akan dimasukkan ke dalam ansambel. Menambah jumlah penduga dapat meningkatkan performa model, namun juga dapat meningkatkan risiko overfitting.\n",
    "3. Maximum depth : Membatasi kedalaman setiap pohon keputusan dalam ansambel. Pohon yang lebih dalam dapat menangkap hubungan yang lebih kompleks dalam data namun juga dapat menyebabkan overfitting.\n",
    "4. Subsampel : Menentukan fraksi sampel yang akan digunakan untuk melatih setiap model yang lemah. Menggunakan nilai yang kurang dari 1,0 dapat menimbulkan keacakan dan membantu mengurangi overfitting.\n",
    "5. Regularization parameters : Parameter ini, seperti min_samples_split, min_samples_leaf, dan max_features, mengontrol kompleksitas pohon keputusan individual dan membantu mencegah overfitting.\n",
    "​"
   ]
  },
  {
   "cell_type": "code",
   "execution_count": 24,
   "metadata": {},
   "outputs": [],
   "source": [
    "estimator = Pipeline([\n",
    "    (\"CTransform\",ct),\n",
    "    (\"Model\",GradientBoostingClassifier())\n",
    "    \n",
    "],verbose=False)"
   ]
  },
  {
   "cell_type": "code",
   "execution_count": 25,
   "metadata": {},
   "outputs": [
    {
     "data": {
      "text/html": [
       "<style>#sk-container-id-2 {color: black;}#sk-container-id-2 pre{padding: 0;}#sk-container-id-2 div.sk-toggleable {background-color: white;}#sk-container-id-2 label.sk-toggleable__label {cursor: pointer;display: block;width: 100%;margin-bottom: 0;padding: 0.3em;box-sizing: border-box;text-align: center;}#sk-container-id-2 label.sk-toggleable__label-arrow:before {content: \"▸\";float: left;margin-right: 0.25em;color: #696969;}#sk-container-id-2 label.sk-toggleable__label-arrow:hover:before {color: black;}#sk-container-id-2 div.sk-estimator:hover label.sk-toggleable__label-arrow:before {color: black;}#sk-container-id-2 div.sk-toggleable__content {max-height: 0;max-width: 0;overflow: hidden;text-align: left;background-color: #f0f8ff;}#sk-container-id-2 div.sk-toggleable__content pre {margin: 0.2em;color: black;border-radius: 0.25em;background-color: #f0f8ff;}#sk-container-id-2 input.sk-toggleable__control:checked~div.sk-toggleable__content {max-height: 200px;max-width: 100%;overflow: auto;}#sk-container-id-2 input.sk-toggleable__control:checked~label.sk-toggleable__label-arrow:before {content: \"▾\";}#sk-container-id-2 div.sk-estimator input.sk-toggleable__control:checked~label.sk-toggleable__label {background-color: #d4ebff;}#sk-container-id-2 div.sk-label input.sk-toggleable__control:checked~label.sk-toggleable__label {background-color: #d4ebff;}#sk-container-id-2 input.sk-hidden--visually {border: 0;clip: rect(1px 1px 1px 1px);clip: rect(1px, 1px, 1px, 1px);height: 1px;margin: -1px;overflow: hidden;padding: 0;position: absolute;width: 1px;}#sk-container-id-2 div.sk-estimator {font-family: monospace;background-color: #f0f8ff;border: 1px dotted black;border-radius: 0.25em;box-sizing: border-box;margin-bottom: 0.5em;}#sk-container-id-2 div.sk-estimator:hover {background-color: #d4ebff;}#sk-container-id-2 div.sk-parallel-item::after {content: \"\";width: 100%;border-bottom: 1px solid gray;flex-grow: 1;}#sk-container-id-2 div.sk-label:hover label.sk-toggleable__label {background-color: #d4ebff;}#sk-container-id-2 div.sk-serial::before {content: \"\";position: absolute;border-left: 1px solid gray;box-sizing: border-box;top: 0;bottom: 0;left: 50%;z-index: 0;}#sk-container-id-2 div.sk-serial {display: flex;flex-direction: column;align-items: center;background-color: white;padding-right: 0.2em;padding-left: 0.2em;position: relative;}#sk-container-id-2 div.sk-item {position: relative;z-index: 1;}#sk-container-id-2 div.sk-parallel {display: flex;align-items: stretch;justify-content: center;background-color: white;position: relative;}#sk-container-id-2 div.sk-item::before, #sk-container-id-2 div.sk-parallel-item::before {content: \"\";position: absolute;border-left: 1px solid gray;box-sizing: border-box;top: 0;bottom: 0;left: 50%;z-index: -1;}#sk-container-id-2 div.sk-parallel-item {display: flex;flex-direction: column;z-index: 1;position: relative;background-color: white;}#sk-container-id-2 div.sk-parallel-item:first-child::after {align-self: flex-end;width: 50%;}#sk-container-id-2 div.sk-parallel-item:last-child::after {align-self: flex-start;width: 50%;}#sk-container-id-2 div.sk-parallel-item:only-child::after {width: 0;}#sk-container-id-2 div.sk-dashed-wrapped {border: 1px dashed gray;margin: 0 0.4em 0.5em 0.4em;box-sizing: border-box;padding-bottom: 0.4em;background-color: white;}#sk-container-id-2 div.sk-label label {font-family: monospace;font-weight: bold;display: inline-block;line-height: 1.2em;}#sk-container-id-2 div.sk-label-container {text-align: center;}#sk-container-id-2 div.sk-container {/* jupyter's `normalize.less` sets `[hidden] { display: none; }` but bootstrap.min.css set `[hidden] { display: none !important; }` so we also need the `!important` here to be able to override the default hidden behavior on the sphinx rendered scikit-learn.org. See: https://github.com/scikit-learn/scikit-learn/issues/21755 */display: inline-block !important;position: relative;}#sk-container-id-2 div.sk-text-repr-fallback {display: none;}</style><div id=\"sk-container-id-2\" class=\"sk-top-container\"><div class=\"sk-text-repr-fallback\"><pre>GridSearchCV(cv=StratifiedKFold(n_splits=5, random_state=2020, shuffle=True),\n",
       "             estimator=Pipeline(steps=[(&#x27;CTransform&#x27;,\n",
       "                                        ColumnTransformer(remainder=&#x27;passthrough&#x27;,\n",
       "                                                          transformers=[(&#x27;BinaryEncoding&#x27;,\n",
       "                                                                         BinaryEncoder(),\n",
       "                                                                         [&#x27;job&#x27;]),\n",
       "                                                                        (&#x27;OrdinalEncoding&#x27;,\n",
       "                                                                         OrdinalEncoder(),\n",
       "                                                                         [&#x27;month&#x27;]),\n",
       "                                                                        (&#x27;OneHotEncoding&#x27;,\n",
       "                                                                         OneHotEncoder(drop=&#x27;first&#x27;),\n",
       "                                                                         [&#x27;housing&#x27;,\n",
       "                                                                          &#x27;loan&#x27;,\n",
       "                                                                          &#x27;contact&#x27;,\n",
       "                                                                          &#x27;poutcome&#x27;]),\n",
       "                                                                        (&#x27;RobustScaler&#x27;,\n",
       "                                                                         RobustScaler(),\n",
       "                                                                         [&#x27;balance&#x27;,\n",
       "                                                                          &#x27;campaign&#x27;,\n",
       "                                                                          &#x27;pdays&#x27;])],\n",
       "                                                          verbose_feature_names_out=False)),\n",
       "                                       (&#x27;Model&#x27;,\n",
       "                                        GradientBoostingClassifier())]),\n",
       "             n_jobs=-1,\n",
       "             param_grid=[{&#x27;Model__learning_rate&#x27;: [100, 10, 1, 0.1, 0.5, 0.05],\n",
       "                          &#x27;Model__max_depth&#x27;: [1, 3, 5, 7],\n",
       "                          &#x27;Model__n_estimators&#x27;: [50, 100, 150, 200, 250],\n",
       "                          &#x27;Model__subsample&#x27;: [1.0, 2.0]}],\n",
       "             scoring=&#x27;roc_auc&#x27;)</pre><b>In a Jupyter environment, please rerun this cell to show the HTML representation or trust the notebook. <br />On GitHub, the HTML representation is unable to render, please try loading this page with nbviewer.org.</b></div><div class=\"sk-container\" hidden><div class=\"sk-item sk-dashed-wrapped\"><div class=\"sk-label-container\"><div class=\"sk-label sk-toggleable\"><input class=\"sk-toggleable__control sk-hidden--visually\" id=\"sk-estimator-id-12\" type=\"checkbox\" ><label for=\"sk-estimator-id-12\" class=\"sk-toggleable__label sk-toggleable__label-arrow\">GridSearchCV</label><div class=\"sk-toggleable__content\"><pre>GridSearchCV(cv=StratifiedKFold(n_splits=5, random_state=2020, shuffle=True),\n",
       "             estimator=Pipeline(steps=[(&#x27;CTransform&#x27;,\n",
       "                                        ColumnTransformer(remainder=&#x27;passthrough&#x27;,\n",
       "                                                          transformers=[(&#x27;BinaryEncoding&#x27;,\n",
       "                                                                         BinaryEncoder(),\n",
       "                                                                         [&#x27;job&#x27;]),\n",
       "                                                                        (&#x27;OrdinalEncoding&#x27;,\n",
       "                                                                         OrdinalEncoder(),\n",
       "                                                                         [&#x27;month&#x27;]),\n",
       "                                                                        (&#x27;OneHotEncoding&#x27;,\n",
       "                                                                         OneHotEncoder(drop=&#x27;first&#x27;),\n",
       "                                                                         [&#x27;housing&#x27;,\n",
       "                                                                          &#x27;loan&#x27;,\n",
       "                                                                          &#x27;contact&#x27;,\n",
       "                                                                          &#x27;poutcome&#x27;]),\n",
       "                                                                        (&#x27;RobustScaler&#x27;,\n",
       "                                                                         RobustScaler(),\n",
       "                                                                         [&#x27;balance&#x27;,\n",
       "                                                                          &#x27;campaign&#x27;,\n",
       "                                                                          &#x27;pdays&#x27;])],\n",
       "                                                          verbose_feature_names_out=False)),\n",
       "                                       (&#x27;Model&#x27;,\n",
       "                                        GradientBoostingClassifier())]),\n",
       "             n_jobs=-1,\n",
       "             param_grid=[{&#x27;Model__learning_rate&#x27;: [100, 10, 1, 0.1, 0.5, 0.05],\n",
       "                          &#x27;Model__max_depth&#x27;: [1, 3, 5, 7],\n",
       "                          &#x27;Model__n_estimators&#x27;: [50, 100, 150, 200, 250],\n",
       "                          &#x27;Model__subsample&#x27;: [1.0, 2.0]}],\n",
       "             scoring=&#x27;roc_auc&#x27;)</pre></div></div></div><div class=\"sk-parallel\"><div class=\"sk-parallel-item\"><div class=\"sk-item\"><div class=\"sk-label-container\"><div class=\"sk-label sk-toggleable\"><input class=\"sk-toggleable__control sk-hidden--visually\" id=\"sk-estimator-id-13\" type=\"checkbox\" ><label for=\"sk-estimator-id-13\" class=\"sk-toggleable__label sk-toggleable__label-arrow\">estimator: Pipeline</label><div class=\"sk-toggleable__content\"><pre>Pipeline(steps=[(&#x27;CTransform&#x27;,\n",
       "                 ColumnTransformer(remainder=&#x27;passthrough&#x27;,\n",
       "                                   transformers=[(&#x27;BinaryEncoding&#x27;,\n",
       "                                                  BinaryEncoder(), [&#x27;job&#x27;]),\n",
       "                                                 (&#x27;OrdinalEncoding&#x27;,\n",
       "                                                  OrdinalEncoder(), [&#x27;month&#x27;]),\n",
       "                                                 (&#x27;OneHotEncoding&#x27;,\n",
       "                                                  OneHotEncoder(drop=&#x27;first&#x27;),\n",
       "                                                  [&#x27;housing&#x27;, &#x27;loan&#x27;, &#x27;contact&#x27;,\n",
       "                                                   &#x27;poutcome&#x27;]),\n",
       "                                                 (&#x27;RobustScaler&#x27;,\n",
       "                                                  RobustScaler(),\n",
       "                                                  [&#x27;balance&#x27;, &#x27;campaign&#x27;,\n",
       "                                                   &#x27;pdays&#x27;])],\n",
       "                                   verbose_feature_names_out=False)),\n",
       "                (&#x27;Model&#x27;, GradientBoostingClassifier())])</pre></div></div></div><div class=\"sk-serial\"><div class=\"sk-item\"><div class=\"sk-serial\"><div class=\"sk-item sk-dashed-wrapped\"><div class=\"sk-label-container\"><div class=\"sk-label sk-toggleable\"><input class=\"sk-toggleable__control sk-hidden--visually\" id=\"sk-estimator-id-14\" type=\"checkbox\" ><label for=\"sk-estimator-id-14\" class=\"sk-toggleable__label sk-toggleable__label-arrow\">CTransform: ColumnTransformer</label><div class=\"sk-toggleable__content\"><pre>ColumnTransformer(remainder=&#x27;passthrough&#x27;,\n",
       "                  transformers=[(&#x27;BinaryEncoding&#x27;, BinaryEncoder(), [&#x27;job&#x27;]),\n",
       "                                (&#x27;OrdinalEncoding&#x27;, OrdinalEncoder(),\n",
       "                                 [&#x27;month&#x27;]),\n",
       "                                (&#x27;OneHotEncoding&#x27;, OneHotEncoder(drop=&#x27;first&#x27;),\n",
       "                                 [&#x27;housing&#x27;, &#x27;loan&#x27;, &#x27;contact&#x27;, &#x27;poutcome&#x27;]),\n",
       "                                (&#x27;RobustScaler&#x27;, RobustScaler(),\n",
       "                                 [&#x27;balance&#x27;, &#x27;campaign&#x27;, &#x27;pdays&#x27;])],\n",
       "                  verbose_feature_names_out=False)</pre></div></div></div><div class=\"sk-parallel\"><div class=\"sk-parallel-item\"><div class=\"sk-item\"><div class=\"sk-label-container\"><div class=\"sk-label sk-toggleable\"><input class=\"sk-toggleable__control sk-hidden--visually\" id=\"sk-estimator-id-15\" type=\"checkbox\" ><label for=\"sk-estimator-id-15\" class=\"sk-toggleable__label sk-toggleable__label-arrow\">BinaryEncoding</label><div class=\"sk-toggleable__content\"><pre>[&#x27;job&#x27;]</pre></div></div></div><div class=\"sk-serial\"><div class=\"sk-item\"><div class=\"sk-estimator sk-toggleable\"><input class=\"sk-toggleable__control sk-hidden--visually\" id=\"sk-estimator-id-16\" type=\"checkbox\" ><label for=\"sk-estimator-id-16\" class=\"sk-toggleable__label sk-toggleable__label-arrow\">BinaryEncoder</label><div class=\"sk-toggleable__content\"><pre>BinaryEncoder()</pre></div></div></div></div></div></div><div class=\"sk-parallel-item\"><div class=\"sk-item\"><div class=\"sk-label-container\"><div class=\"sk-label sk-toggleable\"><input class=\"sk-toggleable__control sk-hidden--visually\" id=\"sk-estimator-id-17\" type=\"checkbox\" ><label for=\"sk-estimator-id-17\" class=\"sk-toggleable__label sk-toggleable__label-arrow\">OrdinalEncoding</label><div class=\"sk-toggleable__content\"><pre>[&#x27;month&#x27;]</pre></div></div></div><div class=\"sk-serial\"><div class=\"sk-item\"><div class=\"sk-estimator sk-toggleable\"><input class=\"sk-toggleable__control sk-hidden--visually\" id=\"sk-estimator-id-18\" type=\"checkbox\" ><label for=\"sk-estimator-id-18\" class=\"sk-toggleable__label sk-toggleable__label-arrow\">OrdinalEncoder</label><div class=\"sk-toggleable__content\"><pre>OrdinalEncoder()</pre></div></div></div></div></div></div><div class=\"sk-parallel-item\"><div class=\"sk-item\"><div class=\"sk-label-container\"><div class=\"sk-label sk-toggleable\"><input class=\"sk-toggleable__control sk-hidden--visually\" id=\"sk-estimator-id-19\" type=\"checkbox\" ><label for=\"sk-estimator-id-19\" class=\"sk-toggleable__label sk-toggleable__label-arrow\">OneHotEncoding</label><div class=\"sk-toggleable__content\"><pre>[&#x27;housing&#x27;, &#x27;loan&#x27;, &#x27;contact&#x27;, &#x27;poutcome&#x27;]</pre></div></div></div><div class=\"sk-serial\"><div class=\"sk-item\"><div class=\"sk-estimator sk-toggleable\"><input class=\"sk-toggleable__control sk-hidden--visually\" id=\"sk-estimator-id-20\" type=\"checkbox\" ><label for=\"sk-estimator-id-20\" class=\"sk-toggleable__label sk-toggleable__label-arrow\">OneHotEncoder</label><div class=\"sk-toggleable__content\"><pre>OneHotEncoder(drop=&#x27;first&#x27;)</pre></div></div></div></div></div></div><div class=\"sk-parallel-item\"><div class=\"sk-item\"><div class=\"sk-label-container\"><div class=\"sk-label sk-toggleable\"><input class=\"sk-toggleable__control sk-hidden--visually\" id=\"sk-estimator-id-21\" type=\"checkbox\" ><label for=\"sk-estimator-id-21\" class=\"sk-toggleable__label sk-toggleable__label-arrow\">RobustScaler</label><div class=\"sk-toggleable__content\"><pre>[&#x27;balance&#x27;, &#x27;campaign&#x27;, &#x27;pdays&#x27;]</pre></div></div></div><div class=\"sk-serial\"><div class=\"sk-item\"><div class=\"sk-estimator sk-toggleable\"><input class=\"sk-toggleable__control sk-hidden--visually\" id=\"sk-estimator-id-22\" type=\"checkbox\" ><label for=\"sk-estimator-id-22\" class=\"sk-toggleable__label sk-toggleable__label-arrow\">RobustScaler</label><div class=\"sk-toggleable__content\"><pre>RobustScaler()</pre></div></div></div></div></div></div><div class=\"sk-parallel-item\"><div class=\"sk-item\"><div class=\"sk-label-container\"><div class=\"sk-label sk-toggleable\"><input class=\"sk-toggleable__control sk-hidden--visually\" id=\"sk-estimator-id-23\" type=\"checkbox\" ><label for=\"sk-estimator-id-23\" class=\"sk-toggleable__label sk-toggleable__label-arrow\">remainder</label><div class=\"sk-toggleable__content\"><pre>[&#x27;age&#x27;]</pre></div></div></div><div class=\"sk-serial\"><div class=\"sk-item\"><div class=\"sk-estimator sk-toggleable\"><input class=\"sk-toggleable__control sk-hidden--visually\" id=\"sk-estimator-id-24\" type=\"checkbox\" ><label for=\"sk-estimator-id-24\" class=\"sk-toggleable__label sk-toggleable__label-arrow\">passthrough</label><div class=\"sk-toggleable__content\"><pre>passthrough</pre></div></div></div></div></div></div></div></div><div class=\"sk-item\"><div class=\"sk-estimator sk-toggleable\"><input class=\"sk-toggleable__control sk-hidden--visually\" id=\"sk-estimator-id-25\" type=\"checkbox\" ><label for=\"sk-estimator-id-25\" class=\"sk-toggleable__label sk-toggleable__label-arrow\">GradientBoostingClassifier</label><div class=\"sk-toggleable__content\"><pre>GradientBoostingClassifier()</pre></div></div></div></div></div></div></div></div></div></div></div></div>"
      ],
      "text/plain": [
       "GridSearchCV(cv=StratifiedKFold(n_splits=5, random_state=2020, shuffle=True),\n",
       "             estimator=Pipeline(steps=[('CTransform',\n",
       "                                        ColumnTransformer(remainder='passthrough',\n",
       "                                                          transformers=[('BinaryEncoding',\n",
       "                                                                         BinaryEncoder(),\n",
       "                                                                         ['job']),\n",
       "                                                                        ('OrdinalEncoding',\n",
       "                                                                         OrdinalEncoder(),\n",
       "                                                                         ['month']),\n",
       "                                                                        ('OneHotEncoding',\n",
       "                                                                         OneHotEncoder(drop='first'),\n",
       "                                                                         ['housing',\n",
       "                                                                          'loan',\n",
       "                                                                          'contact',\n",
       "                                                                          'poutcome']),\n",
       "                                                                        ('RobustScaler',\n",
       "                                                                         RobustScaler(),\n",
       "                                                                         ['balance',\n",
       "                                                                          'campaign',\n",
       "                                                                          'pdays'])],\n",
       "                                                          verbose_feature_names_out=False)),\n",
       "                                       ('Model',\n",
       "                                        GradientBoostingClassifier())]),\n",
       "             n_jobs=-1,\n",
       "             param_grid=[{'Model__learning_rate': [100, 10, 1, 0.1, 0.5, 0.05],\n",
       "                          'Model__max_depth': [1, 3, 5, 7],\n",
       "                          'Model__n_estimators': [50, 100, 150, 200, 250],\n",
       "                          'Model__subsample': [1.0, 2.0]}],\n",
       "             scoring='roc_auc')"
      ]
     },
     "execution_count": 25,
     "metadata": {},
     "output_type": "execute_result"
    }
   ],
   "source": [
    "param_space = [\n",
    "    {\n",
    "    'Model__learning_rate' : [100,10,1,0.1,0.5,0.05],\n",
    "    'Model__n_estimators' : [50,100,150,200,250],\n",
    "    'Model__max_depth' : [1,3,5,7],\n",
    "    'Model__subsample' : [1.0,2.0],\n",
    "    }] \n",
    "gscv = GridSearchCV(estimator=estimator,n_jobs=-1,param_grid=param_space,cv=StratifiedKFold(n_splits=5,shuffle=True,random_state=2020),scoring='roc_auc')\n",
    "gscv.fit(X_train,y_train)"
   ]
  },
  {
   "cell_type": "code",
   "execution_count": 26,
   "metadata": {},
   "outputs": [
    {
     "data": {
      "text/plain": [
       "0.7745935543165106"
      ]
     },
     "metadata": {},
     "output_type": "display_data"
    },
    {
     "data": {
      "text/plain": [
       "{'Model__learning_rate': 0.05,\n",
       " 'Model__max_depth': 5,\n",
       " 'Model__n_estimators': 100,\n",
       " 'Model__subsample': 1.0}"
      ]
     },
     "metadata": {},
     "output_type": "display_data"
    }
   ],
   "source": [
    "best_params = gscv.best_params_\n",
    "best_score = gscv.best_score_\n",
    "display(best_score,best_params)"
   ]
  },
  {
   "cell_type": "code",
   "execution_count": 27,
   "metadata": {},
   "outputs": [
    {
     "data": {
      "text/html": [
       "<style>#sk-container-id-3 {color: black;}#sk-container-id-3 pre{padding: 0;}#sk-container-id-3 div.sk-toggleable {background-color: white;}#sk-container-id-3 label.sk-toggleable__label {cursor: pointer;display: block;width: 100%;margin-bottom: 0;padding: 0.3em;box-sizing: border-box;text-align: center;}#sk-container-id-3 label.sk-toggleable__label-arrow:before {content: \"▸\";float: left;margin-right: 0.25em;color: #696969;}#sk-container-id-3 label.sk-toggleable__label-arrow:hover:before {color: black;}#sk-container-id-3 div.sk-estimator:hover label.sk-toggleable__label-arrow:before {color: black;}#sk-container-id-3 div.sk-toggleable__content {max-height: 0;max-width: 0;overflow: hidden;text-align: left;background-color: #f0f8ff;}#sk-container-id-3 div.sk-toggleable__content pre {margin: 0.2em;color: black;border-radius: 0.25em;background-color: #f0f8ff;}#sk-container-id-3 input.sk-toggleable__control:checked~div.sk-toggleable__content {max-height: 200px;max-width: 100%;overflow: auto;}#sk-container-id-3 input.sk-toggleable__control:checked~label.sk-toggleable__label-arrow:before {content: \"▾\";}#sk-container-id-3 div.sk-estimator input.sk-toggleable__control:checked~label.sk-toggleable__label {background-color: #d4ebff;}#sk-container-id-3 div.sk-label input.sk-toggleable__control:checked~label.sk-toggleable__label {background-color: #d4ebff;}#sk-container-id-3 input.sk-hidden--visually {border: 0;clip: rect(1px 1px 1px 1px);clip: rect(1px, 1px, 1px, 1px);height: 1px;margin: -1px;overflow: hidden;padding: 0;position: absolute;width: 1px;}#sk-container-id-3 div.sk-estimator {font-family: monospace;background-color: #f0f8ff;border: 1px dotted black;border-radius: 0.25em;box-sizing: border-box;margin-bottom: 0.5em;}#sk-container-id-3 div.sk-estimator:hover {background-color: #d4ebff;}#sk-container-id-3 div.sk-parallel-item::after {content: \"\";width: 100%;border-bottom: 1px solid gray;flex-grow: 1;}#sk-container-id-3 div.sk-label:hover label.sk-toggleable__label {background-color: #d4ebff;}#sk-container-id-3 div.sk-serial::before {content: \"\";position: absolute;border-left: 1px solid gray;box-sizing: border-box;top: 0;bottom: 0;left: 50%;z-index: 0;}#sk-container-id-3 div.sk-serial {display: flex;flex-direction: column;align-items: center;background-color: white;padding-right: 0.2em;padding-left: 0.2em;position: relative;}#sk-container-id-3 div.sk-item {position: relative;z-index: 1;}#sk-container-id-3 div.sk-parallel {display: flex;align-items: stretch;justify-content: center;background-color: white;position: relative;}#sk-container-id-3 div.sk-item::before, #sk-container-id-3 div.sk-parallel-item::before {content: \"\";position: absolute;border-left: 1px solid gray;box-sizing: border-box;top: 0;bottom: 0;left: 50%;z-index: -1;}#sk-container-id-3 div.sk-parallel-item {display: flex;flex-direction: column;z-index: 1;position: relative;background-color: white;}#sk-container-id-3 div.sk-parallel-item:first-child::after {align-self: flex-end;width: 50%;}#sk-container-id-3 div.sk-parallel-item:last-child::after {align-self: flex-start;width: 50%;}#sk-container-id-3 div.sk-parallel-item:only-child::after {width: 0;}#sk-container-id-3 div.sk-dashed-wrapped {border: 1px dashed gray;margin: 0 0.4em 0.5em 0.4em;box-sizing: border-box;padding-bottom: 0.4em;background-color: white;}#sk-container-id-3 div.sk-label label {font-family: monospace;font-weight: bold;display: inline-block;line-height: 1.2em;}#sk-container-id-3 div.sk-label-container {text-align: center;}#sk-container-id-3 div.sk-container {/* jupyter's `normalize.less` sets `[hidden] { display: none; }` but bootstrap.min.css set `[hidden] { display: none !important; }` so we also need the `!important` here to be able to override the default hidden behavior on the sphinx rendered scikit-learn.org. See: https://github.com/scikit-learn/scikit-learn/issues/21755 */display: inline-block !important;position: relative;}#sk-container-id-3 div.sk-text-repr-fallback {display: none;}</style><div id=\"sk-container-id-3\" class=\"sk-top-container\"><div class=\"sk-text-repr-fallback\"><pre>Pipeline(steps=[(&#x27;CTransform&#x27;,\n",
       "                 ColumnTransformer(remainder=&#x27;passthrough&#x27;,\n",
       "                                   transformers=[(&#x27;BinaryEncoding&#x27;,\n",
       "                                                  BinaryEncoder(), [&#x27;job&#x27;]),\n",
       "                                                 (&#x27;OrdinalEncoding&#x27;,\n",
       "                                                  OrdinalEncoder(), [&#x27;month&#x27;]),\n",
       "                                                 (&#x27;OneHotEncoding&#x27;,\n",
       "                                                  OneHotEncoder(drop=&#x27;first&#x27;),\n",
       "                                                  [&#x27;housing&#x27;, &#x27;loan&#x27;, &#x27;contact&#x27;,\n",
       "                                                   &#x27;poutcome&#x27;]),\n",
       "                                                 (&#x27;RobustScaler&#x27;,\n",
       "                                                  RobustScaler(),\n",
       "                                                  [&#x27;balance&#x27;, &#x27;campaign&#x27;,\n",
       "                                                   &#x27;pdays&#x27;])],\n",
       "                                   verbose_feature_names_out=False)),\n",
       "                (&#x27;Model&#x27;,\n",
       "                 GradientBoostingClassifier(learning_rate=0.05, max_depth=5))])</pre><b>In a Jupyter environment, please rerun this cell to show the HTML representation or trust the notebook. <br />On GitHub, the HTML representation is unable to render, please try loading this page with nbviewer.org.</b></div><div class=\"sk-container\" hidden><div class=\"sk-item sk-dashed-wrapped\"><div class=\"sk-label-container\"><div class=\"sk-label sk-toggleable\"><input class=\"sk-toggleable__control sk-hidden--visually\" id=\"sk-estimator-id-26\" type=\"checkbox\" ><label for=\"sk-estimator-id-26\" class=\"sk-toggleable__label sk-toggleable__label-arrow\">Pipeline</label><div class=\"sk-toggleable__content\"><pre>Pipeline(steps=[(&#x27;CTransform&#x27;,\n",
       "                 ColumnTransformer(remainder=&#x27;passthrough&#x27;,\n",
       "                                   transformers=[(&#x27;BinaryEncoding&#x27;,\n",
       "                                                  BinaryEncoder(), [&#x27;job&#x27;]),\n",
       "                                                 (&#x27;OrdinalEncoding&#x27;,\n",
       "                                                  OrdinalEncoder(), [&#x27;month&#x27;]),\n",
       "                                                 (&#x27;OneHotEncoding&#x27;,\n",
       "                                                  OneHotEncoder(drop=&#x27;first&#x27;),\n",
       "                                                  [&#x27;housing&#x27;, &#x27;loan&#x27;, &#x27;contact&#x27;,\n",
       "                                                   &#x27;poutcome&#x27;]),\n",
       "                                                 (&#x27;RobustScaler&#x27;,\n",
       "                                                  RobustScaler(),\n",
       "                                                  [&#x27;balance&#x27;, &#x27;campaign&#x27;,\n",
       "                                                   &#x27;pdays&#x27;])],\n",
       "                                   verbose_feature_names_out=False)),\n",
       "                (&#x27;Model&#x27;,\n",
       "                 GradientBoostingClassifier(learning_rate=0.05, max_depth=5))])</pre></div></div></div><div class=\"sk-serial\"><div class=\"sk-item sk-dashed-wrapped\"><div class=\"sk-label-container\"><div class=\"sk-label sk-toggleable\"><input class=\"sk-toggleable__control sk-hidden--visually\" id=\"sk-estimator-id-27\" type=\"checkbox\" ><label for=\"sk-estimator-id-27\" class=\"sk-toggleable__label sk-toggleable__label-arrow\">CTransform: ColumnTransformer</label><div class=\"sk-toggleable__content\"><pre>ColumnTransformer(remainder=&#x27;passthrough&#x27;,\n",
       "                  transformers=[(&#x27;BinaryEncoding&#x27;, BinaryEncoder(), [&#x27;job&#x27;]),\n",
       "                                (&#x27;OrdinalEncoding&#x27;, OrdinalEncoder(),\n",
       "                                 [&#x27;month&#x27;]),\n",
       "                                (&#x27;OneHotEncoding&#x27;, OneHotEncoder(drop=&#x27;first&#x27;),\n",
       "                                 [&#x27;housing&#x27;, &#x27;loan&#x27;, &#x27;contact&#x27;, &#x27;poutcome&#x27;]),\n",
       "                                (&#x27;RobustScaler&#x27;, RobustScaler(),\n",
       "                                 [&#x27;balance&#x27;, &#x27;campaign&#x27;, &#x27;pdays&#x27;])],\n",
       "                  verbose_feature_names_out=False)</pre></div></div></div><div class=\"sk-parallel\"><div class=\"sk-parallel-item\"><div class=\"sk-item\"><div class=\"sk-label-container\"><div class=\"sk-label sk-toggleable\"><input class=\"sk-toggleable__control sk-hidden--visually\" id=\"sk-estimator-id-28\" type=\"checkbox\" ><label for=\"sk-estimator-id-28\" class=\"sk-toggleable__label sk-toggleable__label-arrow\">BinaryEncoding</label><div class=\"sk-toggleable__content\"><pre>[&#x27;job&#x27;]</pre></div></div></div><div class=\"sk-serial\"><div class=\"sk-item\"><div class=\"sk-estimator sk-toggleable\"><input class=\"sk-toggleable__control sk-hidden--visually\" id=\"sk-estimator-id-29\" type=\"checkbox\" ><label for=\"sk-estimator-id-29\" class=\"sk-toggleable__label sk-toggleable__label-arrow\">BinaryEncoder</label><div class=\"sk-toggleable__content\"><pre>BinaryEncoder()</pre></div></div></div></div></div></div><div class=\"sk-parallel-item\"><div class=\"sk-item\"><div class=\"sk-label-container\"><div class=\"sk-label sk-toggleable\"><input class=\"sk-toggleable__control sk-hidden--visually\" id=\"sk-estimator-id-30\" type=\"checkbox\" ><label for=\"sk-estimator-id-30\" class=\"sk-toggleable__label sk-toggleable__label-arrow\">OrdinalEncoding</label><div class=\"sk-toggleable__content\"><pre>[&#x27;month&#x27;]</pre></div></div></div><div class=\"sk-serial\"><div class=\"sk-item\"><div class=\"sk-estimator sk-toggleable\"><input class=\"sk-toggleable__control sk-hidden--visually\" id=\"sk-estimator-id-31\" type=\"checkbox\" ><label for=\"sk-estimator-id-31\" class=\"sk-toggleable__label sk-toggleable__label-arrow\">OrdinalEncoder</label><div class=\"sk-toggleable__content\"><pre>OrdinalEncoder()</pre></div></div></div></div></div></div><div class=\"sk-parallel-item\"><div class=\"sk-item\"><div class=\"sk-label-container\"><div class=\"sk-label sk-toggleable\"><input class=\"sk-toggleable__control sk-hidden--visually\" id=\"sk-estimator-id-32\" type=\"checkbox\" ><label for=\"sk-estimator-id-32\" class=\"sk-toggleable__label sk-toggleable__label-arrow\">OneHotEncoding</label><div class=\"sk-toggleable__content\"><pre>[&#x27;housing&#x27;, &#x27;loan&#x27;, &#x27;contact&#x27;, &#x27;poutcome&#x27;]</pre></div></div></div><div class=\"sk-serial\"><div class=\"sk-item\"><div class=\"sk-estimator sk-toggleable\"><input class=\"sk-toggleable__control sk-hidden--visually\" id=\"sk-estimator-id-33\" type=\"checkbox\" ><label for=\"sk-estimator-id-33\" class=\"sk-toggleable__label sk-toggleable__label-arrow\">OneHotEncoder</label><div class=\"sk-toggleable__content\"><pre>OneHotEncoder(drop=&#x27;first&#x27;)</pre></div></div></div></div></div></div><div class=\"sk-parallel-item\"><div class=\"sk-item\"><div class=\"sk-label-container\"><div class=\"sk-label sk-toggleable\"><input class=\"sk-toggleable__control sk-hidden--visually\" id=\"sk-estimator-id-34\" type=\"checkbox\" ><label for=\"sk-estimator-id-34\" class=\"sk-toggleable__label sk-toggleable__label-arrow\">RobustScaler</label><div class=\"sk-toggleable__content\"><pre>[&#x27;balance&#x27;, &#x27;campaign&#x27;, &#x27;pdays&#x27;]</pre></div></div></div><div class=\"sk-serial\"><div class=\"sk-item\"><div class=\"sk-estimator sk-toggleable\"><input class=\"sk-toggleable__control sk-hidden--visually\" id=\"sk-estimator-id-35\" type=\"checkbox\" ><label for=\"sk-estimator-id-35\" class=\"sk-toggleable__label sk-toggleable__label-arrow\">RobustScaler</label><div class=\"sk-toggleable__content\"><pre>RobustScaler()</pre></div></div></div></div></div></div><div class=\"sk-parallel-item\"><div class=\"sk-item\"><div class=\"sk-label-container\"><div class=\"sk-label sk-toggleable\"><input class=\"sk-toggleable__control sk-hidden--visually\" id=\"sk-estimator-id-36\" type=\"checkbox\" ><label for=\"sk-estimator-id-36\" class=\"sk-toggleable__label sk-toggleable__label-arrow\">remainder</label><div class=\"sk-toggleable__content\"><pre>[&#x27;age&#x27;]</pre></div></div></div><div class=\"sk-serial\"><div class=\"sk-item\"><div class=\"sk-estimator sk-toggleable\"><input class=\"sk-toggleable__control sk-hidden--visually\" id=\"sk-estimator-id-37\" type=\"checkbox\" ><label for=\"sk-estimator-id-37\" class=\"sk-toggleable__label sk-toggleable__label-arrow\">passthrough</label><div class=\"sk-toggleable__content\"><pre>passthrough</pre></div></div></div></div></div></div></div></div><div class=\"sk-item\"><div class=\"sk-estimator sk-toggleable\"><input class=\"sk-toggleable__control sk-hidden--visually\" id=\"sk-estimator-id-38\" type=\"checkbox\" ><label for=\"sk-estimator-id-38\" class=\"sk-toggleable__label sk-toggleable__label-arrow\">GradientBoostingClassifier</label><div class=\"sk-toggleable__content\"><pre>GradientBoostingClassifier(learning_rate=0.05, max_depth=5)</pre></div></div></div></div></div></div></div>"
      ],
      "text/plain": [
       "Pipeline(steps=[('CTransform',\n",
       "                 ColumnTransformer(remainder='passthrough',\n",
       "                                   transformers=[('BinaryEncoding',\n",
       "                                                  BinaryEncoder(), ['job']),\n",
       "                                                 ('OrdinalEncoding',\n",
       "                                                  OrdinalEncoder(), ['month']),\n",
       "                                                 ('OneHotEncoding',\n",
       "                                                  OneHotEncoder(drop='first'),\n",
       "                                                  ['housing', 'loan', 'contact',\n",
       "                                                   'poutcome']),\n",
       "                                                 ('RobustScaler',\n",
       "                                                  RobustScaler(),\n",
       "                                                  ['balance', 'campaign',\n",
       "                                                   'pdays'])],\n",
       "                                   verbose_feature_names_out=False)),\n",
       "                ('Model',\n",
       "                 GradientBoostingClassifier(learning_rate=0.05, max_depth=5))])"
      ]
     },
     "execution_count": 27,
     "metadata": {},
     "output_type": "execute_result"
    }
   ],
   "source": [
    "best_model = gscv.best_estimator_\n",
    "best_model.fit(X_train,y_train)"
   ]
  },
  {
   "cell_type": "code",
   "execution_count": 28,
   "metadata": {},
   "outputs": [
    {
     "data": {
      "text/html": [
       "<style>#sk-container-id-4 {color: black;}#sk-container-id-4 pre{padding: 0;}#sk-container-id-4 div.sk-toggleable {background-color: white;}#sk-container-id-4 label.sk-toggleable__label {cursor: pointer;display: block;width: 100%;margin-bottom: 0;padding: 0.3em;box-sizing: border-box;text-align: center;}#sk-container-id-4 label.sk-toggleable__label-arrow:before {content: \"▸\";float: left;margin-right: 0.25em;color: #696969;}#sk-container-id-4 label.sk-toggleable__label-arrow:hover:before {color: black;}#sk-container-id-4 div.sk-estimator:hover label.sk-toggleable__label-arrow:before {color: black;}#sk-container-id-4 div.sk-toggleable__content {max-height: 0;max-width: 0;overflow: hidden;text-align: left;background-color: #f0f8ff;}#sk-container-id-4 div.sk-toggleable__content pre {margin: 0.2em;color: black;border-radius: 0.25em;background-color: #f0f8ff;}#sk-container-id-4 input.sk-toggleable__control:checked~div.sk-toggleable__content {max-height: 200px;max-width: 100%;overflow: auto;}#sk-container-id-4 input.sk-toggleable__control:checked~label.sk-toggleable__label-arrow:before {content: \"▾\";}#sk-container-id-4 div.sk-estimator input.sk-toggleable__control:checked~label.sk-toggleable__label {background-color: #d4ebff;}#sk-container-id-4 div.sk-label input.sk-toggleable__control:checked~label.sk-toggleable__label {background-color: #d4ebff;}#sk-container-id-4 input.sk-hidden--visually {border: 0;clip: rect(1px 1px 1px 1px);clip: rect(1px, 1px, 1px, 1px);height: 1px;margin: -1px;overflow: hidden;padding: 0;position: absolute;width: 1px;}#sk-container-id-4 div.sk-estimator {font-family: monospace;background-color: #f0f8ff;border: 1px dotted black;border-radius: 0.25em;box-sizing: border-box;margin-bottom: 0.5em;}#sk-container-id-4 div.sk-estimator:hover {background-color: #d4ebff;}#sk-container-id-4 div.sk-parallel-item::after {content: \"\";width: 100%;border-bottom: 1px solid gray;flex-grow: 1;}#sk-container-id-4 div.sk-label:hover label.sk-toggleable__label {background-color: #d4ebff;}#sk-container-id-4 div.sk-serial::before {content: \"\";position: absolute;border-left: 1px solid gray;box-sizing: border-box;top: 0;bottom: 0;left: 50%;z-index: 0;}#sk-container-id-4 div.sk-serial {display: flex;flex-direction: column;align-items: center;background-color: white;padding-right: 0.2em;padding-left: 0.2em;position: relative;}#sk-container-id-4 div.sk-item {position: relative;z-index: 1;}#sk-container-id-4 div.sk-parallel {display: flex;align-items: stretch;justify-content: center;background-color: white;position: relative;}#sk-container-id-4 div.sk-item::before, #sk-container-id-4 div.sk-parallel-item::before {content: \"\";position: absolute;border-left: 1px solid gray;box-sizing: border-box;top: 0;bottom: 0;left: 50%;z-index: -1;}#sk-container-id-4 div.sk-parallel-item {display: flex;flex-direction: column;z-index: 1;position: relative;background-color: white;}#sk-container-id-4 div.sk-parallel-item:first-child::after {align-self: flex-end;width: 50%;}#sk-container-id-4 div.sk-parallel-item:last-child::after {align-self: flex-start;width: 50%;}#sk-container-id-4 div.sk-parallel-item:only-child::after {width: 0;}#sk-container-id-4 div.sk-dashed-wrapped {border: 1px dashed gray;margin: 0 0.4em 0.5em 0.4em;box-sizing: border-box;padding-bottom: 0.4em;background-color: white;}#sk-container-id-4 div.sk-label label {font-family: monospace;font-weight: bold;display: inline-block;line-height: 1.2em;}#sk-container-id-4 div.sk-label-container {text-align: center;}#sk-container-id-4 div.sk-container {/* jupyter's `normalize.less` sets `[hidden] { display: none; }` but bootstrap.min.css set `[hidden] { display: none !important; }` so we also need the `!important` here to be able to override the default hidden behavior on the sphinx rendered scikit-learn.org. See: https://github.com/scikit-learn/scikit-learn/issues/21755 */display: inline-block !important;position: relative;}#sk-container-id-4 div.sk-text-repr-fallback {display: none;}</style><div id=\"sk-container-id-4\" class=\"sk-top-container\"><div class=\"sk-text-repr-fallback\"><pre>Pipeline(steps=[(&#x27;CTransform&#x27;,\n",
       "                 ColumnTransformer(remainder=&#x27;passthrough&#x27;,\n",
       "                                   transformers=[(&#x27;BinaryEncoding&#x27;,\n",
       "                                                  BinaryEncoder(), [&#x27;job&#x27;]),\n",
       "                                                 (&#x27;OrdinalEncoding&#x27;,\n",
       "                                                  OrdinalEncoder(), [&#x27;month&#x27;]),\n",
       "                                                 (&#x27;OneHotEncoding&#x27;,\n",
       "                                                  OneHotEncoder(drop=&#x27;first&#x27;),\n",
       "                                                  [&#x27;housing&#x27;, &#x27;loan&#x27;, &#x27;contact&#x27;,\n",
       "                                                   &#x27;poutcome&#x27;]),\n",
       "                                                 (&#x27;RobustScaler&#x27;,\n",
       "                                                  RobustScaler(),\n",
       "                                                  [&#x27;balance&#x27;, &#x27;campaign&#x27;,\n",
       "                                                   &#x27;pdays&#x27;])],\n",
       "                                   verbose_feature_names_out=False)),\n",
       "                (&#x27;Model&#x27;, GradientBoostingClassifier())])</pre><b>In a Jupyter environment, please rerun this cell to show the HTML representation or trust the notebook. <br />On GitHub, the HTML representation is unable to render, please try loading this page with nbviewer.org.</b></div><div class=\"sk-container\" hidden><div class=\"sk-item sk-dashed-wrapped\"><div class=\"sk-label-container\"><div class=\"sk-label sk-toggleable\"><input class=\"sk-toggleable__control sk-hidden--visually\" id=\"sk-estimator-id-39\" type=\"checkbox\" ><label for=\"sk-estimator-id-39\" class=\"sk-toggleable__label sk-toggleable__label-arrow\">Pipeline</label><div class=\"sk-toggleable__content\"><pre>Pipeline(steps=[(&#x27;CTransform&#x27;,\n",
       "                 ColumnTransformer(remainder=&#x27;passthrough&#x27;,\n",
       "                                   transformers=[(&#x27;BinaryEncoding&#x27;,\n",
       "                                                  BinaryEncoder(), [&#x27;job&#x27;]),\n",
       "                                                 (&#x27;OrdinalEncoding&#x27;,\n",
       "                                                  OrdinalEncoder(), [&#x27;month&#x27;]),\n",
       "                                                 (&#x27;OneHotEncoding&#x27;,\n",
       "                                                  OneHotEncoder(drop=&#x27;first&#x27;),\n",
       "                                                  [&#x27;housing&#x27;, &#x27;loan&#x27;, &#x27;contact&#x27;,\n",
       "                                                   &#x27;poutcome&#x27;]),\n",
       "                                                 (&#x27;RobustScaler&#x27;,\n",
       "                                                  RobustScaler(),\n",
       "                                                  [&#x27;balance&#x27;, &#x27;campaign&#x27;,\n",
       "                                                   &#x27;pdays&#x27;])],\n",
       "                                   verbose_feature_names_out=False)),\n",
       "                (&#x27;Model&#x27;, GradientBoostingClassifier())])</pre></div></div></div><div class=\"sk-serial\"><div class=\"sk-item sk-dashed-wrapped\"><div class=\"sk-label-container\"><div class=\"sk-label sk-toggleable\"><input class=\"sk-toggleable__control sk-hidden--visually\" id=\"sk-estimator-id-40\" type=\"checkbox\" ><label for=\"sk-estimator-id-40\" class=\"sk-toggleable__label sk-toggleable__label-arrow\">CTransform: ColumnTransformer</label><div class=\"sk-toggleable__content\"><pre>ColumnTransformer(remainder=&#x27;passthrough&#x27;,\n",
       "                  transformers=[(&#x27;BinaryEncoding&#x27;, BinaryEncoder(), [&#x27;job&#x27;]),\n",
       "                                (&#x27;OrdinalEncoding&#x27;, OrdinalEncoder(),\n",
       "                                 [&#x27;month&#x27;]),\n",
       "                                (&#x27;OneHotEncoding&#x27;, OneHotEncoder(drop=&#x27;first&#x27;),\n",
       "                                 [&#x27;housing&#x27;, &#x27;loan&#x27;, &#x27;contact&#x27;, &#x27;poutcome&#x27;]),\n",
       "                                (&#x27;RobustScaler&#x27;, RobustScaler(),\n",
       "                                 [&#x27;balance&#x27;, &#x27;campaign&#x27;, &#x27;pdays&#x27;])],\n",
       "                  verbose_feature_names_out=False)</pre></div></div></div><div class=\"sk-parallel\"><div class=\"sk-parallel-item\"><div class=\"sk-item\"><div class=\"sk-label-container\"><div class=\"sk-label sk-toggleable\"><input class=\"sk-toggleable__control sk-hidden--visually\" id=\"sk-estimator-id-41\" type=\"checkbox\" ><label for=\"sk-estimator-id-41\" class=\"sk-toggleable__label sk-toggleable__label-arrow\">BinaryEncoding</label><div class=\"sk-toggleable__content\"><pre>[&#x27;job&#x27;]</pre></div></div></div><div class=\"sk-serial\"><div class=\"sk-item\"><div class=\"sk-estimator sk-toggleable\"><input class=\"sk-toggleable__control sk-hidden--visually\" id=\"sk-estimator-id-42\" type=\"checkbox\" ><label for=\"sk-estimator-id-42\" class=\"sk-toggleable__label sk-toggleable__label-arrow\">BinaryEncoder</label><div class=\"sk-toggleable__content\"><pre>BinaryEncoder()</pre></div></div></div></div></div></div><div class=\"sk-parallel-item\"><div class=\"sk-item\"><div class=\"sk-label-container\"><div class=\"sk-label sk-toggleable\"><input class=\"sk-toggleable__control sk-hidden--visually\" id=\"sk-estimator-id-43\" type=\"checkbox\" ><label for=\"sk-estimator-id-43\" class=\"sk-toggleable__label sk-toggleable__label-arrow\">OrdinalEncoding</label><div class=\"sk-toggleable__content\"><pre>[&#x27;month&#x27;]</pre></div></div></div><div class=\"sk-serial\"><div class=\"sk-item\"><div class=\"sk-estimator sk-toggleable\"><input class=\"sk-toggleable__control sk-hidden--visually\" id=\"sk-estimator-id-44\" type=\"checkbox\" ><label for=\"sk-estimator-id-44\" class=\"sk-toggleable__label sk-toggleable__label-arrow\">OrdinalEncoder</label><div class=\"sk-toggleable__content\"><pre>OrdinalEncoder()</pre></div></div></div></div></div></div><div class=\"sk-parallel-item\"><div class=\"sk-item\"><div class=\"sk-label-container\"><div class=\"sk-label sk-toggleable\"><input class=\"sk-toggleable__control sk-hidden--visually\" id=\"sk-estimator-id-45\" type=\"checkbox\" ><label for=\"sk-estimator-id-45\" class=\"sk-toggleable__label sk-toggleable__label-arrow\">OneHotEncoding</label><div class=\"sk-toggleable__content\"><pre>[&#x27;housing&#x27;, &#x27;loan&#x27;, &#x27;contact&#x27;, &#x27;poutcome&#x27;]</pre></div></div></div><div class=\"sk-serial\"><div class=\"sk-item\"><div class=\"sk-estimator sk-toggleable\"><input class=\"sk-toggleable__control sk-hidden--visually\" id=\"sk-estimator-id-46\" type=\"checkbox\" ><label for=\"sk-estimator-id-46\" class=\"sk-toggleable__label sk-toggleable__label-arrow\">OneHotEncoder</label><div class=\"sk-toggleable__content\"><pre>OneHotEncoder(drop=&#x27;first&#x27;)</pre></div></div></div></div></div></div><div class=\"sk-parallel-item\"><div class=\"sk-item\"><div class=\"sk-label-container\"><div class=\"sk-label sk-toggleable\"><input class=\"sk-toggleable__control sk-hidden--visually\" id=\"sk-estimator-id-47\" type=\"checkbox\" ><label for=\"sk-estimator-id-47\" class=\"sk-toggleable__label sk-toggleable__label-arrow\">RobustScaler</label><div class=\"sk-toggleable__content\"><pre>[&#x27;balance&#x27;, &#x27;campaign&#x27;, &#x27;pdays&#x27;]</pre></div></div></div><div class=\"sk-serial\"><div class=\"sk-item\"><div class=\"sk-estimator sk-toggleable\"><input class=\"sk-toggleable__control sk-hidden--visually\" id=\"sk-estimator-id-48\" type=\"checkbox\" ><label for=\"sk-estimator-id-48\" class=\"sk-toggleable__label sk-toggleable__label-arrow\">RobustScaler</label><div class=\"sk-toggleable__content\"><pre>RobustScaler()</pre></div></div></div></div></div></div><div class=\"sk-parallel-item\"><div class=\"sk-item\"><div class=\"sk-label-container\"><div class=\"sk-label sk-toggleable\"><input class=\"sk-toggleable__control sk-hidden--visually\" id=\"sk-estimator-id-49\" type=\"checkbox\" ><label for=\"sk-estimator-id-49\" class=\"sk-toggleable__label sk-toggleable__label-arrow\">remainder</label><div class=\"sk-toggleable__content\"><pre>[&#x27;age&#x27;]</pre></div></div></div><div class=\"sk-serial\"><div class=\"sk-item\"><div class=\"sk-estimator sk-toggleable\"><input class=\"sk-toggleable__control sk-hidden--visually\" id=\"sk-estimator-id-50\" type=\"checkbox\" ><label for=\"sk-estimator-id-50\" class=\"sk-toggleable__label sk-toggleable__label-arrow\">passthrough</label><div class=\"sk-toggleable__content\"><pre>passthrough</pre></div></div></div></div></div></div></div></div><div class=\"sk-item\"><div class=\"sk-estimator sk-toggleable\"><input class=\"sk-toggleable__control sk-hidden--visually\" id=\"sk-estimator-id-51\" type=\"checkbox\" ><label for=\"sk-estimator-id-51\" class=\"sk-toggleable__label sk-toggleable__label-arrow\">GradientBoostingClassifier</label><div class=\"sk-toggleable__content\"><pre>GradientBoostingClassifier()</pre></div></div></div></div></div></div></div>"
      ],
      "text/plain": [
       "Pipeline(steps=[('CTransform',\n",
       "                 ColumnTransformer(remainder='passthrough',\n",
       "                                   transformers=[('BinaryEncoding',\n",
       "                                                  BinaryEncoder(), ['job']),\n",
       "                                                 ('OrdinalEncoding',\n",
       "                                                  OrdinalEncoder(), ['month']),\n",
       "                                                 ('OneHotEncoding',\n",
       "                                                  OneHotEncoder(drop='first'),\n",
       "                                                  ['housing', 'loan', 'contact',\n",
       "                                                   'poutcome']),\n",
       "                                                 ('RobustScaler',\n",
       "                                                  RobustScaler(),\n",
       "                                                  ['balance', 'campaign',\n",
       "                                                   'pdays'])],\n",
       "                                   verbose_feature_names_out=False)),\n",
       "                ('Model', GradientBoostingClassifier())])"
      ]
     },
     "execution_count": 28,
     "metadata": {},
     "output_type": "execute_result"
    }
   ],
   "source": [
    "estimator.fit(X_train,y_train)"
   ]
  },
  {
   "cell_type": "code",
   "execution_count": 29,
   "metadata": {},
   "outputs": [
    {
     "name": "stdout",
     "output_type": "stream",
     "text": [
      "ROC_AUC Score Gradient sebelum di Tunning : 0.7317373641013832\n",
      "ROC_AUC Score Gradient sesudah di Tunning : 0.7339643744140527\n"
     ]
    }
   ],
   "source": [
    "predict_default = estimator.predict(X_test)\n",
    "predict_default_proba = estimator.predict_proba(X_test)\n",
    "predict_tunned = best_model.predict(X_test)\n",
    "predict_tunned_proba = best_model.predict_proba(X_test)\n",
    "\n",
    "roc_auc_default = roc_auc_score(y_test,predict_default)\n",
    "roc_auc_tunned = roc_auc_score(y_test,predict_tunned)\n",
    "\n",
    "print(f\"ROC_AUC Score Gradient sebelum di Tunning :\", roc_auc_default)\n",
    "print(f\"ROC_AUC Score Gradient sesudah di Tunning :\", roc_auc_tunned)"
   ]
  },
  {
   "cell_type": "markdown",
   "metadata": {},
   "source": [
    "Berdasarkan hasil di atas, skor prediksi model `GradientBoosting` pada data pengujian sedikit meningkat dari 0,731 menjadi 0,733. Selanjutnya saya akan mengujinya pada classification report."
   ]
  },
  {
   "cell_type": "code",
   "execution_count": 30,
   "metadata": {},
   "outputs": [
    {
     "name": "stdout",
     "output_type": "stream",
     "text": [
      "Classfication Default \n",
      "               precision    recall  f1-score   support\n",
      "\n",
      "           0       0.71      0.84      0.77       815\n",
      "           1       0.78      0.62      0.69       746\n",
      "\n",
      "    accuracy                           0.74      1561\n",
      "   macro avg       0.75      0.73      0.73      1561\n",
      "weighted avg       0.74      0.74      0.73      1561\n",
      "\n",
      "Classfication Tunned \n",
      "               precision    recall  f1-score   support\n",
      "\n",
      "           0       0.71      0.85      0.77       815\n",
      "           1       0.79      0.61      0.69       746\n",
      "\n",
      "    accuracy                           0.74      1561\n",
      "   macro avg       0.75      0.73      0.73      1561\n",
      "weighted avg       0.75      0.74      0.73      1561\n",
      "\n"
     ]
    }
   ],
   "source": [
    "report_default = classification_report(y_test,predict_default)\n",
    "report_tunned = classification_report(y_test,predict_tunned)\n",
    "\n",
    "print(f\"Classfication Default \\n\",report_default)\n",
    "print(f\"Classfication Tunned \\n\",report_tunned)"
   ]
  },
  {
   "cell_type": "code",
   "execution_count": 31,
   "metadata": {},
   "outputs": [
    {
     "data": {
      "image/png": "[encoded data removed]",
      "text/plain": [
       "<Figure size 640x480 with 1 Axes>"
      ]
     },
     "metadata": {},
     "output_type": "display_data"
    }
   ],
   "source": [
    "score = best_model['Model'].feature_importances_\n",
    "feature_score = list(zip(all_cols,score))\n",
    "feature_importances = pd.DataFrame(data=feature_score,columns=['Feature Names','Score']).sort_values('Score',ascending=False)\n",
    "sns.barplot(x=feature_importances['Score'],y=feature_importances['Feature Names'],orient='h')\n",
    "plt.title(\"Feature Importance\")\n",
    "plt.show()"
   ]
  },
  {
   "cell_type": "code",
   "execution_count": 32,
   "metadata": {},
   "outputs": [
    {
     "data": {
      "image/png": "[encoded data removed]",
      "text/plain": [
       "<Figure size 640x480 with 2 Axes>"
      ]
     },
     "metadata": {},
     "output_type": "display_data"
    },
    {
     "name": "stdout",
     "output_type": "stream",
     "text": [
      "Classfication Tunned \n",
      "               precision    recall  f1-score   support\n",
      "\n",
      "           0       0.71      0.85      0.77       815\n",
      "           1       0.79      0.61      0.69       746\n",
      "\n",
      "    accuracy                           0.74      1561\n",
      "   macro avg       0.75      0.73      0.73      1561\n",
      "weighted avg       0.75      0.74      0.73      1561\n",
      "\n"
     ]
    }
   ],
   "source": [
    "confusion_tunned = confusion_matrix(y_test,predict_tunned)\n",
    "disp = ConfusionMatrixDisplay(confusion_matrix=confusion_tunned,display_labels=best_model.classes_)\n",
    "disp.plot()\n",
    "plt.show()\n",
    "print(f\"Classfication Tunned \\n\",report_tunned)"
   ]
  },
  {
   "cell_type": "markdown",
   "metadata": {},
   "source": [
    "## Kesimpulan\n",
    "\n",
    "Penarikan kesimpulan dari classification report di atas adalah model mampu mengurangi 84% nasabah yang tidak tertarik. Sebagai contoh, dari 100 nasabah yang secara aktual tidak tertarik, model mampu memprediksi 84 nasabah dengan benar. Namun, sisanya yang berjumlah 16 diprediksi sebagai nasabah yang tertarik. Model mampu mengurangi 84 nasabah yang tidak tertarik agar tidak dilakukan pendekatan (pemasaran). Model juga mampu mendapatkan 61% nasabah yang benar-benar tertarik (berdasarkan recall). Contoh tambahan, dari 100 nasabah yang tertarik secara ril, model mampu memprediksi 61 nasabah dengan benar. Tetapi, sisanya yang berjumlah 39 diprediksi sebagai nasabah yang tidak tertarik.\n",
    "\n",
    "Model memiliki ketepatan prediksi terhadap kandidat yang tertarik sebesar 78%. Contohnya, dari 100 orang yang diprediksi model sebagai nasabah yang tertarik, model mampu mendapatkan 78 orang nasabah yang tertarik dengan benar (berdasarkan precision).\n",
    "\n",
    "Salah satu cara Bank  melakukan pemasaran terhadap nasabah dengan menggunakan telepon, meskipun cara lain dapat saja digunakan karena pada fitur `contact` terdapat data ketegorikal berupa `other`. Asumsikan saja cara yang paling dominan digunakan oleh Bank  menggunakan telepon. Mengontak nasabah melalui telepon tentu saja memakan biaya. Diasumsikan biaya sekali telepon untuk mengontak nasabah sebesar 10$. Andaikan jumlah nasabah yang dimiliki dalam suatu periode berjumlah 100 orang, terdiri dari 50 orang tertarik dan 50 orang sisanya tidak tertarik. Perhitungannya sebagai berikut:\n",
    "\n",
    "Tanpa Model (semua nasabah dikontak):\n",
    "- Total Biaya: 100 nasabah x $10 = $1000\n",
    "- Nasabah tertarik yang didapat: 50 orang (semua nasabah dikontak)\n",
    "- Nasabah tertarik yang tidak didapat: 0 orang (semua nasabah dikontak)\n",
    "- Biaya terbuang: 100 nasabah x $10 = $1000\n",
    "- Penghematan: $0\n",
    "\n",
    "Dengan Model (hanya calon konsumen yang diprediksi berminat saja yang akan ditawarkan):\n",
    " - Matriks Kebingungan :\n",
    " - TP: 61\n",
    " - TN: 84\n",
    " - FP: 16\n",
    " - FN: 39\n",
    "\n",
    "Dari Confusion Matrix di atas, dari 100 calon nasabah (61+39), 61 diantaranya benar-benar berminat, dan 39 tidak berminat. Perhitungannya adalah sebagai berikut:\n",
    "- Total Biaya -> 100 x 10 USD = 1000 USD.\n",
    "- Total perolehan calon konsumen yang berminat -> 63 calon konsumen.\n",
    "- Biaya yang terbuang => 39 x 10 USD = 390 USD (karena 39 calon pelanggan menolak dan menjadi sia-sia).\n",
    "\n",
    "Berdasarkan contoh perhitungan di atas, model ini dapat mengurangi biaya biaya yang terbuang sebesar 39%, dari sebelumnya 1000 USD menjadi 390 USD.\n",
    "   \n",
    "Selain itu, model juga dapat memperkirakan atau meminimalkan biaya yang terbuang dengan nilai False Positive (FP). Jika dihitung, biaya yang terbuang dari False Positive (FP) adalah 160 USD (16 (FP) x 10 USD).\n",
    "​\n"
   ]
  },
  {
   "cell_type": "markdown",
   "metadata": {},
   "source": [
    "## Rekomendasi\n",
    "\n",
    "1. Bank  perlu lebih detail terhadap data nasabah. Sebisa mungkin kurangi kategori data `(unknown)` dan `(other)` seperti pada fitur `contact` dan `poutcome`. Kedua kategori tersebut kurang merepresentasikan nasabah.\n",
    "2. Mengingat data numerikal berpengaruh signifikan terhapad model yang dibuat, Bank  perlu mengubah tipe data pada beberapa fitur yang dapat diubah menjadi data numerikal, seperti fitur `housing` dan `loan`. Fitur tersebut dapat diubah menjadi data numerikal yang berisi nominal cicilan dan pinjaman nasabah\n",
    "3. Bank perlu menambah beberapa fitur lain yang dapat berpengaruh terhadap model, terutama fitur yang memiliki data numerikal. Bank dapat menambah data pendapatan perbulan, pengeluaran nasabah perbulan, jumlah anak, dan pinjaman di bank lain\n",
    "4. Jika dilakukan penambahan data, perlu dilihat apakah model masih relevan atau tidak karena pasti setiap model memiliki limitasi/batasan tersendiri. Bank dapat melakukan pemilihan model kembali yang sesuai dengan kondisi data terbaru. Tambahkan pula model yang lebih kompleks.\n",
    "5. Perlu diketahui bahwa setiap model memiliki limitasi/batasan. Model yang dibuat saat ini hanya cocok pada dataset yang balance. Jika data terbaru memiliki data yang imbalance, perlu dilakukan pendekatan oversampling atau undersampling, tergantung dari kondisi data terbaru. Jika terjadi penambahan data, tidak menutup kemungkinan model saat ini mememiliki masalah overfitting. Perlu dilakuan perlakukan khusus agar masalah overfitting dapat dihindari."
   ]
  }
 ],
 "metadata": {
  "kernelspec": {
   "display_name": "Python 3",
   "language": "python",
   "name": "python3"
  },
  "language_info": {
   "codemirror_mode": {
    "name": "ipython",
    "version": 3
   },
   "file_extension": ".py",
   "mimetype": "text/x-python",
   "name": "python",
   "nbconvert_exporter": "python",
   "pygments_lexer": "ipython3",
   "version": "3.12.0"
  }
 },
 "nbformat": 4,
 "nbformat_minor": 2
}
